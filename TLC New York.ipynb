{
 "cells": [
  {
   "cell_type": "markdown",
   "id": "3c08d4d5",
   "metadata": {},
   "source": [
    "# Data Preparation"
   ]
  },
  {
   "cell_type": "markdown",
   "id": "0d4fbd4f",
   "metadata": {},
   "source": [
    "## 1. Import Library and Data"
   ]
  },
  {
   "cell_type": "code",
   "execution_count": 1,
   "id": "9433c467",
   "metadata": {},
   "outputs": [],
   "source": [
    "## Komputasi\n",
    "import pandas as pd\n",
    "import numpy as np\n",
    "\n",
    "## Visualisasi\n",
    "import matplotlib.pyplot as plt\n",
    "import seaborn as sns\n",
    "\n",
    "## Multicollinearity\n",
    "from statsmodels.tools.tools import add_constant\n",
    "from statsmodels.stats.outliers_influence import variance_inflation_factor as vif \n",
    "\n",
    "## Scaling data\n",
    "from sklearn.preprocessing import StandardScaler\n",
    "\n",
    "## Modeling\n",
    "from sklearn.model_selection import train_test_split\n",
    "from sklearn.linear_model import LinearRegression\n",
    "from sklearn.linear_model import Ridge\n",
    "from sklearn.linear_model import Lasso\n",
    "\n",
    "## Model Evaluation\n",
    "from sklearn.metrics import mean_squared_error\n",
    "from sklearn.metrics import mean_absolute_error\n",
    "from sklearn.metrics import mean_absolute_percentage_error\n",
    "\n",
    "    ### R2 Score\n",
    "from sklearn.metrics import r2_score\n",
    "\n",
    "import warnings\n",
    "warnings.simplefilter(action='ignore')"
   ]
  },
  {
   "cell_type": "code",
   "execution_count": 2,
   "id": "ef9dd297",
   "metadata": {},
   "outputs": [],
   "source": [
    "taxi = pd.read_parquet('yellow_tripdata_2021-09.parquet', engine='fastparquet')"
   ]
  },
  {
   "cell_type": "markdown",
   "id": "73498e0b",
   "metadata": {},
   "source": [
    "## 2. Data Inspection"
   ]
  },
  {
   "cell_type": "code",
   "execution_count": 3,
   "id": "2dd68899",
   "metadata": {
    "scrolled": false
   },
   "outputs": [
    {
     "data": {
      "text/html": [
       "<div>\n",
       "<style scoped>\n",
       "    .dataframe tbody tr th:only-of-type {\n",
       "        vertical-align: middle;\n",
       "    }\n",
       "\n",
       "    .dataframe tbody tr th {\n",
       "        vertical-align: top;\n",
       "    }\n",
       "\n",
       "    .dataframe thead th {\n",
       "        text-align: right;\n",
       "    }\n",
       "</style>\n",
       "<table border=\"1\" class=\"dataframe\">\n",
       "  <thead>\n",
       "    <tr style=\"text-align: right;\">\n",
       "      <th></th>\n",
       "      <th>VendorID</th>\n",
       "      <th>tpep_pickup_datetime</th>\n",
       "      <th>tpep_dropoff_datetime</th>\n",
       "      <th>passenger_count</th>\n",
       "      <th>trip_distance</th>\n",
       "      <th>RatecodeID</th>\n",
       "      <th>store_and_fwd_flag</th>\n",
       "      <th>PULocationID</th>\n",
       "      <th>DOLocationID</th>\n",
       "      <th>payment_type</th>\n",
       "      <th>fare_amount</th>\n",
       "      <th>extra</th>\n",
       "      <th>mta_tax</th>\n",
       "      <th>tip_amount</th>\n",
       "      <th>tolls_amount</th>\n",
       "      <th>improvement_surcharge</th>\n",
       "      <th>total_amount</th>\n",
       "      <th>congestion_surcharge</th>\n",
       "      <th>airport_fee</th>\n",
       "    </tr>\n",
       "  </thead>\n",
       "  <tbody>\n",
       "    <tr>\n",
       "      <th>0</th>\n",
       "      <td>2</td>\n",
       "      <td>2021-09-01 06:04:34</td>\n",
       "      <td>2021-09-01 06:15:28</td>\n",
       "      <td>2.0</td>\n",
       "      <td>4.90</td>\n",
       "      <td>1.0</td>\n",
       "      <td>N</td>\n",
       "      <td>87</td>\n",
       "      <td>229</td>\n",
       "      <td>1</td>\n",
       "      <td>16.0</td>\n",
       "      <td>0.5</td>\n",
       "      <td>0.5</td>\n",
       "      <td>2.00</td>\n",
       "      <td>0.00</td>\n",
       "      <td>0.3</td>\n",
       "      <td>21.80</td>\n",
       "      <td>2.5</td>\n",
       "      <td>0.0</td>\n",
       "    </tr>\n",
       "    <tr>\n",
       "      <th>1</th>\n",
       "      <td>2</td>\n",
       "      <td>2021-09-01 06:26:31</td>\n",
       "      <td>2021-09-01 06:32:39</td>\n",
       "      <td>1.0</td>\n",
       "      <td>1.13</td>\n",
       "      <td>1.0</td>\n",
       "      <td>N</td>\n",
       "      <td>162</td>\n",
       "      <td>229</td>\n",
       "      <td>1</td>\n",
       "      <td>6.0</td>\n",
       "      <td>0.5</td>\n",
       "      <td>0.5</td>\n",
       "      <td>1.96</td>\n",
       "      <td>0.00</td>\n",
       "      <td>0.3</td>\n",
       "      <td>11.76</td>\n",
       "      <td>2.5</td>\n",
       "      <td>0.0</td>\n",
       "    </tr>\n",
       "    <tr>\n",
       "      <th>2</th>\n",
       "      <td>2</td>\n",
       "      <td>2021-09-01 06:36:15</td>\n",
       "      <td>2021-09-01 06:40:30</td>\n",
       "      <td>2.0</td>\n",
       "      <td>1.37</td>\n",
       "      <td>1.0</td>\n",
       "      <td>N</td>\n",
       "      <td>141</td>\n",
       "      <td>262</td>\n",
       "      <td>1</td>\n",
       "      <td>6.0</td>\n",
       "      <td>0.5</td>\n",
       "      <td>0.5</td>\n",
       "      <td>1.96</td>\n",
       "      <td>0.00</td>\n",
       "      <td>0.3</td>\n",
       "      <td>11.76</td>\n",
       "      <td>2.5</td>\n",
       "      <td>0.0</td>\n",
       "    </tr>\n",
       "    <tr>\n",
       "      <th>3</th>\n",
       "      <td>1</td>\n",
       "      <td>2021-09-01 00:00:15</td>\n",
       "      <td>2021-09-01 00:18:34</td>\n",
       "      <td>2.0</td>\n",
       "      <td>6.50</td>\n",
       "      <td>1.0</td>\n",
       "      <td>N</td>\n",
       "      <td>90</td>\n",
       "      <td>260</td>\n",
       "      <td>2</td>\n",
       "      <td>21.0</td>\n",
       "      <td>3.0</td>\n",
       "      <td>0.5</td>\n",
       "      <td>0.00</td>\n",
       "      <td>6.55</td>\n",
       "      <td>0.3</td>\n",
       "      <td>31.35</td>\n",
       "      <td>2.5</td>\n",
       "      <td>0.0</td>\n",
       "    </tr>\n",
       "    <tr>\n",
       "      <th>4</th>\n",
       "      <td>2</td>\n",
       "      <td>2021-09-01 00:44:54</td>\n",
       "      <td>2021-09-01 00:56:33</td>\n",
       "      <td>1.0</td>\n",
       "      <td>2.32</td>\n",
       "      <td>1.0</td>\n",
       "      <td>N</td>\n",
       "      <td>75</td>\n",
       "      <td>238</td>\n",
       "      <td>2</td>\n",
       "      <td>10.5</td>\n",
       "      <td>0.5</td>\n",
       "      <td>0.5</td>\n",
       "      <td>0.00</td>\n",
       "      <td>0.00</td>\n",
       "      <td>0.3</td>\n",
       "      <td>11.80</td>\n",
       "      <td>0.0</td>\n",
       "      <td>0.0</td>\n",
       "    </tr>\n",
       "  </tbody>\n",
       "</table>\n",
       "</div>"
      ],
      "text/plain": [
       "   VendorID tpep_pickup_datetime tpep_dropoff_datetime  passenger_count  \\\n",
       "0         2  2021-09-01 06:04:34   2021-09-01 06:15:28              2.0   \n",
       "1         2  2021-09-01 06:26:31   2021-09-01 06:32:39              1.0   \n",
       "2         2  2021-09-01 06:36:15   2021-09-01 06:40:30              2.0   \n",
       "3         1  2021-09-01 00:00:15   2021-09-01 00:18:34              2.0   \n",
       "4         2  2021-09-01 00:44:54   2021-09-01 00:56:33              1.0   \n",
       "\n",
       "   trip_distance  RatecodeID store_and_fwd_flag  PULocationID  DOLocationID  \\\n",
       "0           4.90         1.0                  N            87           229   \n",
       "1           1.13         1.0                  N           162           229   \n",
       "2           1.37         1.0                  N           141           262   \n",
       "3           6.50         1.0                  N            90           260   \n",
       "4           2.32         1.0                  N            75           238   \n",
       "\n",
       "   payment_type  fare_amount  extra  mta_tax  tip_amount  tolls_amount  \\\n",
       "0             1         16.0    0.5      0.5        2.00          0.00   \n",
       "1             1          6.0    0.5      0.5        1.96          0.00   \n",
       "2             1          6.0    0.5      0.5        1.96          0.00   \n",
       "3             2         21.0    3.0      0.5        0.00          6.55   \n",
       "4             2         10.5    0.5      0.5        0.00          0.00   \n",
       "\n",
       "   improvement_surcharge  total_amount  congestion_surcharge  airport_fee  \n",
       "0                    0.3         21.80                   2.5          0.0  \n",
       "1                    0.3         11.76                   2.5          0.0  \n",
       "2                    0.3         11.76                   2.5          0.0  \n",
       "3                    0.3         31.35                   2.5          0.0  \n",
       "4                    0.3         11.80                   0.0          0.0  "
      ]
     },
     "execution_count": 3,
     "metadata": {},
     "output_type": "execute_result"
    }
   ],
   "source": [
    "taxi.head()"
   ]
  },
  {
   "cell_type": "code",
   "execution_count": 4,
   "id": "e0d20325",
   "metadata": {},
   "outputs": [
    {
     "name": "stdout",
     "output_type": "stream",
     "text": [
      "<class 'pandas.core.frame.DataFrame'>\n",
      "RangeIndex: 2963793 entries, 0 to 2963792\n",
      "Data columns (total 19 columns):\n",
      " #   Column                 Dtype         \n",
      "---  ------                 -----         \n",
      " 0   VendorID               int64         \n",
      " 1   tpep_pickup_datetime   datetime64[ns]\n",
      " 2   tpep_dropoff_datetime  datetime64[ns]\n",
      " 3   passenger_count        float64       \n",
      " 4   trip_distance          float64       \n",
      " 5   RatecodeID             float64       \n",
      " 6   store_and_fwd_flag     object        \n",
      " 7   PULocationID           int64         \n",
      " 8   DOLocationID           int64         \n",
      " 9   payment_type           int64         \n",
      " 10  fare_amount            float64       \n",
      " 11  extra                  float64       \n",
      " 12  mta_tax                float64       \n",
      " 13  tip_amount             float64       \n",
      " 14  tolls_amount           float64       \n",
      " 15  improvement_surcharge  float64       \n",
      " 16  total_amount           float64       \n",
      " 17  congestion_surcharge   float64       \n",
      " 18  airport_fee            float64       \n",
      "dtypes: datetime64[ns](2), float64(12), int64(4), object(1)\n",
      "memory usage: 429.6+ MB\n"
     ]
    }
   ],
   "source": [
    "taxi.info()"
   ]
  },
  {
   "cell_type": "code",
   "execution_count": 5,
   "id": "7e244450",
   "metadata": {
    "scrolled": true
   },
   "outputs": [
    {
     "name": "stdout",
     "output_type": "stream",
     "text": [
      "===== VendorID =====\n",
      "[2 1 6 5]\n",
      "\n",
      "===== tpep_pickup_datetime =====\n",
      "['2021-09-01T06:04:34.000000000' '2021-09-01T06:26:31.000000000'\n",
      " '2021-09-01T06:36:15.000000000' ... '2021-09-30T23:46:03.000000000'\n",
      " '2021-09-30T23:16:35.000000000' '2021-09-30T23:25:29.000000000']\n",
      "\n",
      "===== tpep_dropoff_datetime =====\n",
      "['2021-09-01T06:15:28.000000000' '2021-09-01T06:32:39.000000000'\n",
      " '2021-09-01T06:40:30.000000000' ... '2021-09-30T23:49:22.000000000'\n",
      " '2021-09-30T23:55:44.000000000' '2021-10-01T00:19:02.000000000']\n",
      "\n",
      "===== passenger_count =====\n",
      "[ 2.  1.  5.  0.  3.  4.  6.  7.  8.  9. nan]\n",
      "\n",
      "===== trip_distance =====\n",
      "[4.9000000e+00 1.1300000e+00 1.3700000e+00 ... 5.7778690e+04 3.1970780e+04\n",
      " 1.0403818e+05]\n",
      "\n",
      "===== RatecodeID =====\n",
      "[ 1.  2.  5.  4.  3. 99.  6. nan]\n",
      "\n",
      "===== store_and_fwd_flag =====\n",
      "['N' 'Y' None]\n",
      "\n",
      "===== PULocationID =====\n",
      "[ 87 162 141  90  75 239 137  45  93 181 234 233 132 148  79 163 140 229\n",
      " 263 249 138 243 107 170 211 100 231 161  41  43  48 142 116 144 151  50\n",
      " 186 244 238 261 113 158  74 264 230 164  68 237 143  97 114 125  70 223\n",
      "  17  14  24 257  88 262 236 246  34 166  92 179 209 146 256  13 167  80\n",
      "  33 255 152 190 265  42   4  37  49 133 189 224 232 194 112 225  25 145\n",
      "  40  82 254   7 215  61 196 106  65  36 188 129 193 250  28  56 213 226\n",
      "  23 118 135  64  38 216   1  44 165 174 260 124 168 123  18 177 173  53\n",
      "  52  10  69 210 197 101  39 207 169  66 235 160 134 208 202 149 127  96\n",
      "  76 130 240  95 119  72 159 153 221 253  89 247 242  55 155 120 217   3\n",
      "  60  26  12 157 241 205 102  20 219 206  94 195  78 109  47 203 185 222\n",
      " 147 248  54  21  62 220 200 171 136  71 228  51  31  35 121 180  29 128\n",
      "  83 227 192 198 258  16  86 139  63 131 191  85 212  91 117 182  15  84\n",
      " 126 178 183 259 252 201  59 218 122 115  57   8  67  32 184 245  77 108\n",
      "  22  81 150  19  98 175  73  58 187 251 156   6   9  11 111   2  46 204\n",
      "   5 154 214 176  99  30 172 199  27]\n",
      "\n",
      "===== DOLocationID =====\n",
      "[229 262 260 238 263  42 232 113  49 149 107 140  48  79 144 171  90 168\n",
      " 243 148 143 248 236 114 161  75 166 237 225  63 146 132 162 230 174  36\n",
      " 197  80 231   4  74 145 164 129 142 244 198 246 151 137 167  33 170 249\n",
      " 116 192  13 209 141  88 163  25  68 169   7  50 112  37 165 242 239 186\n",
      " 233  61  89 179  45 131 122 217 234 256  14 187 190 223 173 261 189 257\n",
      " 100 216 158 265  43  10 240  24  65  47 254 159 125  40 127  34 228 226\n",
      " 224 135  92  56  29 264  97 195 152  28  82 181  83 211  39  51 220  95\n",
      "  87 188 157  41 247  62  67  22 102 208  76  64 108 130 255 259 109  66\n",
      " 182  17  27 218   9 126 200 106 201 227 213 160  52 215 196 123 202  21\n",
      " 193 124 133 134  85  78 219 138 205 121 258 119  35  69  38  18 147  91\n",
      "   3  12 183 194 251  19 155  55 250  77  11  94 252 235   1 212 118 177\n",
      " 203  26  72  71  44  86 136 241   8 191  70  53 101 207 154  23  58 139\n",
      "  54 178 210  73 175 185  32 128  93  15 120 153 221  98 117  20 222 253\n",
      "  16  81 180  31  60 150 206  57  96   6 204 214  99 111   5 115  46  84\n",
      " 184 156  59 172 176 245  30   2]\n",
      "\n",
      "===== payment_type =====\n",
      "[1 2 3 4 0]\n",
      "\n",
      "===== fare_amount =====\n",
      "[16.    6.   21.   ... 51.11 85.61 16.11]\n",
      "\n",
      "===== extra =====\n",
      "[ 0.5   3.    3.75  2.5   1.75  0.    4.25  1.25 -0.5   3.5   4.75  8.25\n",
      "  2.25  1.    0.8  -1.    4.5   7.    5.75 -4.5   5.5   5.   -2.    2.\n",
      "  3.25  0.52  0.03 -1.25  0.3   4.9   0.01 -2.5  -5.5   0.04  1.8   1.3\n",
      "  2.05  3.3   9.    4.3   4.    1.03  7.75  6.75  2.75  1.35  1.09  5.57\n",
      "  4.1   8.55  9.55  8.66  3.35  6.85  4.67  8.03  2.07  4.61  0.24  1.02]\n",
      "\n",
      "===== mta_tax =====\n",
      "[ 0.5   0.   -0.5   0.25 -0.25  0.08  2.5   1.55  3.3   0.32]\n",
      "\n",
      "===== tip_amount =====\n",
      "[ 2.    1.96  0.   ... 23.78 23.27 17.43]\n",
      "\n",
      "===== tolls_amount =====\n",
      "[ 0.0000e+00  6.5500e+00  6.1200e+00  1.3100e+01  9.6000e+01  2.2300e+01\n",
      " -6.5500e+00  2.4500e+00  3.0000e+00  7.8000e+00  1.1750e+01 -1.3100e+01\n",
      "  1.5000e+01  1.8300e+01  1.5880e+01  1.6750e+01  1.0000e+01  1.6650e+01\n",
      "  1.7750e+01  3.4000e+01  1.3000e+01  2.0000e+01  1.3750e+01  1.7150e+01\n",
      "  1.9750e+01  2.3350e+01  2.0300e+01  2.8800e+01  1.9630e+01  1.8350e+01\n",
      "  1.7200e+01  6.6700e+00  1.5200e+01  1.8750e+01  1.2500e+00  1.7000e+01\n",
      "  2.0190e+01  2.0250e+01  9.5500e+00  6.0000e+00  1.4750e+01  9.0500e+00\n",
      "  8.5500e+00  2.1190e+01  1.3540e+01  2.4850e+01  8.3600e+00  2.3500e+01\n",
      "  1.4650e+01  2.0950e+01  1.8190e+01  1.6050e+01  1.8250e+01  1.7250e+01\n",
      "  2.8800e+00  2.5900e+01  2.5000e+00  2.1750e+01  1.7310e+01  2.0750e+01\n",
      "  1.4550e+01  6.3300e+00  7.6300e+00  7.0000e+00  1.8050e+01  1.9450e+01\n",
      "  2.7500e+01  1.6350e+01  2.6200e+01  1.5000e+00  6.4800e+00  9.0000e+00\n",
      "  2.2000e+01  2.5250e+01  6.9200e+00  2.3750e+01  1.6500e+01  1.1060e+01\n",
      "  5.5000e+00  1.8000e+01  2.5800e+01  1.9550e+01  2.2750e+01  8.0000e+00\n",
      "  6.6100e+00  5.0000e+01  1.9500e+01  1.6000e+01  1.0170e+01  8.5000e+00\n",
      "  4.0000e+00  1.2240e+01  2.8000e+00  1.0300e+01  1.4300e+01  8.8000e+00\n",
      "  1.2550e+01  3.0050e+01  1.0000e-02  1.4000e+01  2.9300e+01  3.0000e+01\n",
      "  6.2000e+00  1.8500e+01  2.6950e+01  2.7300e+01  2.3050e+01  1.6200e+01\n",
      "  1.6250e+01  1.8200e+01  2.6300e+01  5.0000e+00  2.2900e+00  2.3300e+01\n",
      "  2.0150e+01  2.2800e+01  8.2100e+00  1.9200e+01  6.5000e+00  3.3200e+00\n",
      "  2.3190e+01  1.0550e+01  1.8550e+01  3.0750e+01  1.8430e+01  1.4600e+01\n",
      "  1.6150e+01  1.6550e+01  1.5750e+01  2.1550e+01  1.7950e+01  2.5000e+01\n",
      " -3.0000e+00  1.1550e+01  2.5190e+01  2.0000e+00  3.8300e+01  6.6500e+00\n",
      "  1.6450e+01  1.2670e+01  8.8000e+01 -1.4750e+01  1.9350e+01  1.6520e+01\n",
      "  1.5450e+01  9.8500e+00  8.3000e+00  2.5500e+01  9.8700e+00  2.1000e+01\n",
      "  2.8750e+01  1.9250e+01  1.8650e+01  1.1050e+01  1.7500e+01  2.9000e+01\n",
      "  1.6400e+01  2.7250e+01  4.9000e+00  1.4100e+01  2.2150e+01  1.5500e+01\n",
      "  5.0000e-01  8.6100e+00  2.0500e+01  1.4400e+01  2.5990e+01  2.1350e+01\n",
      "  3.0300e+01  6.3500e+00  2.9750e+01  2.3800e+01  6.8800e+00  7.8500e+00\n",
      "  7.5500e+00  4.5000e+00  5.0900e+00  1.8360e+01  3.4050e+01  1.9840e+01\n",
      "  7.7400e+00  1.9000e+01  1.9850e+01  1.5760e+01  3.8200e+01  7.6600e+00\n",
      "  1.1780e+01 -1.8300e+01  1.9650e+01  5.6600e+00  1.9800e+01  1.6700e+01\n",
      "  1.7030e+01  2.1580e+01 -2.4000e+01  2.4000e+01  2.1200e+01  1.4500e+01\n",
      "  1.7650e+01  1.0050e+01  2.7750e+01  1.7550e+01  2.5750e+01  1.9050e+01\n",
      "  2.3000e+01  9.6300e+00  7.4650e+01  1.5550e+01  1.0500e+01  1.5950e+01\n",
      "  3.0500e+01  8.1000e+00  8.6000e+00 -3.0050e+01 -2.8000e+01  2.8000e+01\n",
      "  8.2000e+00  1.3210e+01  5.4500e+00  1.7900e+01  4.0500e+00  6.7500e+00\n",
      "  6.6400e+00  1.8950e+01  6.2100e+00  2.6850e+01  1.8610e+01  1.3550e+01\n",
      " -8.3600e+00  2.4300e+01  2.4500e+01 -1.9650e+01  1.7870e+01  6.8000e+00\n",
      " -1.0170e+01  1.0000e+00  1.1170e+01  2.2600e+01  1.6950e+01  9.5000e+00\n",
      "  1.7100e+01  1.1000e+01  2.2500e+01  1.8450e+01  3.5000e+01  1.7450e+01\n",
      "  1.2500e+01  1.5900e+01  7.5000e+00  1.3050e+01  5.3550e+01  7.2500e+00\n",
      "  4.7000e+00  5.7000e+01  1.1570e+01  2.1250e+01 -1.3750e+01  1.9950e+01\n",
      "  1.9900e+01  2.8300e+01  1.5650e+01  1.4200e+01  6.5300e+00  1.6800e+01\n",
      "  1.5250e+01  3.5500e+00  2.0200e+01  1.4350e+01  1.2760e+01  2.0700e+01\n",
      "  1.0200e+01  4.4500e+00  1.4250e+01  6.5600e+00  2.5000e-01  1.3400e+01\n",
      "  8.0500e+00  6.6600e+00  6.8500e+00  7.9000e+00  8.4100e+00  1.7600e+01\n",
      "  1.5710e+01  9.7200e+00  1.7300e+01  1.2050e+01  1.3770e+01  4.4000e+00\n",
      "  3.4900e+01  1.6740e+01  2.4750e+01  9.0400e+00  2.2700e+01  1.6600e+01\n",
      "  1.7500e+00  8.0000e+01  1.2140e+01  1.1800e+01  7.1500e+00  6.4100e+00\n",
      "  1.4470e+01  1.8100e+01  1.1580e+01  6.7000e+01  1.9300e+01  6.6610e+01\n",
      "  1.6100e+01  2.0910e+01  1.7400e+01  2.0450e+01  1.7210e+01  3.3750e+01\n",
      "  1.9100e+01  1.4450e+01  5.0550e+01  2.6550e+01  1.2000e+01  4.1000e+01\n",
      "  3.5000e+00  6.3000e+01  2.0840e+01  1.1900e+00  1.4290e+01  3.4940e+01\n",
      " -1.6750e+01  2.1900e+01  1.5350e+01  8.9200e+00  7.1750e+01  3.9750e+01\n",
      "  1.3370e+01  2.0340e+01 -2.4500e+00  3.3550e+01  2.4400e+01  2.3550e+01\n",
      "  2.6250e+01  2.0770e+01  1.6530e+01  2.9350e+01  7.4500e+00  1.2300e+01\n",
      "  2.2340e+01 -4.0000e+00  8.7500e+00  6.5700e+00  1.7760e+01  2.0550e+01\n",
      "  1.1450e+01  2.2550e+01  2.6000e+01  6.2200e+00  1.1120e+01  2.0800e+01\n",
      "  8.9500e+00  1.3190e+01  1.2880e+01  1.3950e+01  2.2250e+01  2.5350e+01\n",
      "  1.9540e+01  1.2110e+01 -1.3550e+01 -4.1250e+01  4.1250e+01  2.3250e+01\n",
      "  1.7050e+01  1.1500e+01  2.8250e+01  1.8000e-01  1.3900e+01  6.2400e+00\n",
      "  9.4660e+01  1.7700e+01  2.4000e+00  7.2000e+00  1.9490e+01  1.9150e+01\n",
      "  1.6720e+01  1.6600e+00  2.5300e+01  1.4000e+00  5.2500e+00  8.0900e+00\n",
      " -5.0000e+00  3.3000e+00  4.5500e+00  1.3760e+01  1.4730e+01  1.3650e+01\n",
      "  2.7500e+00  2.2200e+01  2.2350e+01 -1.1750e+01  8.1000e+01  6.6550e+01\n",
      "  2.4800e+01  3.4750e+01  3.1550e+01  6.5000e+01  6.1100e+00  2.9500e+01\n",
      "  1.8590e+01  1.3800e+01  4.5300e+01  6.9600e+00  2.3200e+01  7.5000e+01\n",
      "  1.9730e+01  1.2000e-01  1.7350e+01  1.9700e+01  4.5000e+01  2.1300e+01\n",
      "  1.9870e+01  1.2400e+00  6.6000e+00 -5.4500e+00  1.8150e+01  1.4950e+01\n",
      "  6.0300e+00  2.1500e+01 -1.8350e+01  1.5100e+01  6.3200e+00  5.5500e+00\n",
      "  2.1290e+01  2.6500e+01  2.0350e+01  1.5050e+01 -1.8250e+01  5.8800e+00\n",
      "  5.0500e+00  1.5980e+01  3.3500e+01  3.4500e+01  2.6150e+01  3.4300e+01\n",
      "  1.3120e+01 -4.9000e+00  2.1100e+01  2.2500e+00  1.1950e+01  3.1750e+01\n",
      "  1.8290e+01  1.8670e+01  1.4150e+01  5.5570e+01  7.9200e+00  1.3500e+01\n",
      "  8.3200e+00  3.7500e+00  1.8880e+01  7.7000e+01  2.9000e+00  2.1050e+01\n",
      "  6.3100e+01  1.2210e+01  3.2050e+01  4.0050e+01  4.3700e+01  1.6420e+01\n",
      "  1.5700e+01  1.0560e+01  2.6750e+01  1.8800e+01  6.4400e+00  3.5300e+01\n",
      "  2.4600e+01 -1.6000e+01  2.5200e+01  5.9000e+00  6.6900e+00  2.2950e+01\n",
      "  2.4700e+01  1.8400e+01  1.8700e+01  9.7600e+00  2.5950e+01  3.8500e+01\n",
      "  7.4000e+01  3.9250e+01  6.5580e+01  5.1550e+01  2.4200e+01  7.3000e+00\n",
      "  2.4900e+00  6.9300e+00  2.6100e+01  2.5550e+01  3.2750e+01  2.5850e+01\n",
      "  1.1180e+01  6.9000e+01 -1.0000e+01  1.6120e+01  1.1650e+01  9.6600e+00\n",
      "  2.1700e+01  2.7550e+01  2.3600e+01  9.0000e-02  4.0000e+01  1.4800e+01\n",
      "  2.1600e+01  1.3600e+01  5.9900e+00  7.0000e+01  1.7800e+01  3.2500e+01\n",
      "  3.8750e+01  7.7100e+00  2.1420e+01  1.6900e+01  4.2000e+00  6.7700e+00\n",
      "  3.7000e+01  3.8000e+01  8.4000e+00  9.8900e+00  2.1400e+00  3.9050e+01\n",
      "  9.9000e+00  2.1450e+01 -1.9250e+01  7.6000e+00  1.4050e+01  7.1000e+01\n",
      "  8.7100e+00  5.5600e+00  1.5800e+01  5.3300e+01  9.1130e+02  1.3330e+01\n",
      "  8.4600e+00 -6.1200e+00  5.6745e+02  9.9990e+01  2.5100e+01  1.3850e+01\n",
      "  3.7250e+01  4.3100e+01  2.8500e+00  1.3350e+01  8.3100e+00  4.5450e+01\n",
      "  1.7630e+01  1.4760e+01  1.6240e+01  6.1800e+01  2.3850e+01  2.0650e+01\n",
      "  1.6640e+01  2.0140e+01  4.4750e+01  5.7500e+00  2.6600e+01  5.6300e+01\n",
      "  1.0700e+01  8.7000e+00  2.5690e+01  2.2100e+01  7.5000e-01  1.9790e+01\n",
      "  1.0090e+01  3.6200e+00  4.1800e+01  1.7790e+01  5.7100e+00  1.8760e+01\n",
      "  3.1250e+01  3.1500e+01  4.5800e+00  1.6840e+01  2.1150e+01  2.9950e+01\n",
      "  2.0050e+01  9.3000e+00  1.5300e+01  1.9600e+01  3.6850e+01  1.2750e+01\n",
      "  2.3700e+01  6.3500e+01  2.0400e+01  1.1640e+01  9.1200e+00  1.5670e+01\n",
      "  1.6510e+01  3.2400e+01  2.6340e+01  1.4910e+01  1.7240e+01  1.3090e+01\n",
      "  1.3700e+01]\n",
      "\n",
      "===== improvement_surcharge =====\n",
      "[ 0.3 -0.3  0. ]\n",
      "\n",
      "===== total_amount =====\n",
      "[ 21.8   11.76  31.35 ...  83.86 -32.14  60.32]\n",
      "\n",
      "===== congestion_surcharge =====\n",
      "[ 2.5   0.   -2.5   0.75 -0.75  2.75  1.     nan]\n",
      "\n",
      "===== airport_fee =====\n"
     ]
    },
    {
     "name": "stdout",
     "output_type": "stream",
     "text": [
      "[ 0.    1.25 -1.25   nan]\n",
      "\n"
     ]
    }
   ],
   "source": [
    "## Cek unique values pada Dataframe\n",
    "for x in taxi.columns : \n",
    "    print (f'===== {x} =====')\n",
    "    print (f'{taxi[x].unique()}')\n",
    "    print()"
   ]
  },
  {
   "cell_type": "markdown",
   "id": "1e586605",
   "metadata": {},
   "source": [
    "- Remove negative values at column `extra`, `mta_tax`, `tolls_amount`, `improvement_surcharge`, `congestion_surcharge`, `airport_fee`\n",
    "- Remove anomaly values at column `RatecodeID`, it is 99\n",
    "- Remove anomaly values at column `payment_type`, it is 0\n",
    "- Make new colum named 'travel_time' yang represents the travel time\n",
    "- and new colum named 'fare_permil' yang represents cost of travel per mile\n",
    "- Transform data type column `store_and_fwd_flag` to boolean"
   ]
  },
  {
   "cell_type": "markdown",
   "id": "2cbba954",
   "metadata": {},
   "source": [
    "### 2.1 Create new column"
   ]
  },
  {
   "cell_type": "code",
   "execution_count": 6,
   "id": "4088582d",
   "metadata": {},
   "outputs": [],
   "source": [
    "## Column 'travel_time'\n",
    "\n",
    "taxi['travel_time'] = taxi['tpep_dropoff_datetime']-taxi['tpep_pickup_datetime']\n",
    "taxi['travel_time'] = (taxi['travel_time'] / np.timedelta64(1, 'm')).round(2)"
   ]
  },
  {
   "cell_type": "code",
   "execution_count": 7,
   "id": "c2a986aa",
   "metadata": {},
   "outputs": [],
   "source": [
    "## Column 'fare_permil'\n",
    "\n",
    "taxi['fare_permil'] = (taxi['fare_amount'] / taxi['trip_distance']).round(2)"
   ]
  },
  {
   "cell_type": "code",
   "execution_count": 8,
   "id": "dd6f5006",
   "metadata": {},
   "outputs": [
    {
     "data": {
      "text/html": [
       "<div>\n",
       "<style scoped>\n",
       "    .dataframe tbody tr th:only-of-type {\n",
       "        vertical-align: middle;\n",
       "    }\n",
       "\n",
       "    .dataframe tbody tr th {\n",
       "        vertical-align: top;\n",
       "    }\n",
       "\n",
       "    .dataframe thead th {\n",
       "        text-align: right;\n",
       "    }\n",
       "</style>\n",
       "<table border=\"1\" class=\"dataframe\">\n",
       "  <thead>\n",
       "    <tr style=\"text-align: right;\">\n",
       "      <th></th>\n",
       "      <th>VendorID</th>\n",
       "      <th>tpep_pickup_datetime</th>\n",
       "      <th>tpep_dropoff_datetime</th>\n",
       "      <th>passenger_count</th>\n",
       "      <th>trip_distance</th>\n",
       "      <th>RatecodeID</th>\n",
       "      <th>store_and_fwd_flag</th>\n",
       "      <th>PULocationID</th>\n",
       "      <th>DOLocationID</th>\n",
       "      <th>payment_type</th>\n",
       "      <th>...</th>\n",
       "      <th>extra</th>\n",
       "      <th>mta_tax</th>\n",
       "      <th>tip_amount</th>\n",
       "      <th>tolls_amount</th>\n",
       "      <th>improvement_surcharge</th>\n",
       "      <th>total_amount</th>\n",
       "      <th>congestion_surcharge</th>\n",
       "      <th>airport_fee</th>\n",
       "      <th>travel_time</th>\n",
       "      <th>fare_permil</th>\n",
       "    </tr>\n",
       "  </thead>\n",
       "  <tbody>\n",
       "    <tr>\n",
       "      <th>0</th>\n",
       "      <td>2</td>\n",
       "      <td>2021-09-01 06:04:34</td>\n",
       "      <td>2021-09-01 06:15:28</td>\n",
       "      <td>2.0</td>\n",
       "      <td>4.90</td>\n",
       "      <td>1.0</td>\n",
       "      <td>N</td>\n",
       "      <td>87</td>\n",
       "      <td>229</td>\n",
       "      <td>1</td>\n",
       "      <td>...</td>\n",
       "      <td>0.5</td>\n",
       "      <td>0.5</td>\n",
       "      <td>2.00</td>\n",
       "      <td>0.00</td>\n",
       "      <td>0.3</td>\n",
       "      <td>21.80</td>\n",
       "      <td>2.5</td>\n",
       "      <td>0.0</td>\n",
       "      <td>10.90</td>\n",
       "      <td>3.27</td>\n",
       "    </tr>\n",
       "    <tr>\n",
       "      <th>1</th>\n",
       "      <td>2</td>\n",
       "      <td>2021-09-01 06:26:31</td>\n",
       "      <td>2021-09-01 06:32:39</td>\n",
       "      <td>1.0</td>\n",
       "      <td>1.13</td>\n",
       "      <td>1.0</td>\n",
       "      <td>N</td>\n",
       "      <td>162</td>\n",
       "      <td>229</td>\n",
       "      <td>1</td>\n",
       "      <td>...</td>\n",
       "      <td>0.5</td>\n",
       "      <td>0.5</td>\n",
       "      <td>1.96</td>\n",
       "      <td>0.00</td>\n",
       "      <td>0.3</td>\n",
       "      <td>11.76</td>\n",
       "      <td>2.5</td>\n",
       "      <td>0.0</td>\n",
       "      <td>6.13</td>\n",
       "      <td>5.31</td>\n",
       "    </tr>\n",
       "    <tr>\n",
       "      <th>2</th>\n",
       "      <td>2</td>\n",
       "      <td>2021-09-01 06:36:15</td>\n",
       "      <td>2021-09-01 06:40:30</td>\n",
       "      <td>2.0</td>\n",
       "      <td>1.37</td>\n",
       "      <td>1.0</td>\n",
       "      <td>N</td>\n",
       "      <td>141</td>\n",
       "      <td>262</td>\n",
       "      <td>1</td>\n",
       "      <td>...</td>\n",
       "      <td>0.5</td>\n",
       "      <td>0.5</td>\n",
       "      <td>1.96</td>\n",
       "      <td>0.00</td>\n",
       "      <td>0.3</td>\n",
       "      <td>11.76</td>\n",
       "      <td>2.5</td>\n",
       "      <td>0.0</td>\n",
       "      <td>4.25</td>\n",
       "      <td>4.38</td>\n",
       "    </tr>\n",
       "    <tr>\n",
       "      <th>3</th>\n",
       "      <td>1</td>\n",
       "      <td>2021-09-01 00:00:15</td>\n",
       "      <td>2021-09-01 00:18:34</td>\n",
       "      <td>2.0</td>\n",
       "      <td>6.50</td>\n",
       "      <td>1.0</td>\n",
       "      <td>N</td>\n",
       "      <td>90</td>\n",
       "      <td>260</td>\n",
       "      <td>2</td>\n",
       "      <td>...</td>\n",
       "      <td>3.0</td>\n",
       "      <td>0.5</td>\n",
       "      <td>0.00</td>\n",
       "      <td>6.55</td>\n",
       "      <td>0.3</td>\n",
       "      <td>31.35</td>\n",
       "      <td>2.5</td>\n",
       "      <td>0.0</td>\n",
       "      <td>18.32</td>\n",
       "      <td>3.23</td>\n",
       "    </tr>\n",
       "    <tr>\n",
       "      <th>4</th>\n",
       "      <td>2</td>\n",
       "      <td>2021-09-01 00:44:54</td>\n",
       "      <td>2021-09-01 00:56:33</td>\n",
       "      <td>1.0</td>\n",
       "      <td>2.32</td>\n",
       "      <td>1.0</td>\n",
       "      <td>N</td>\n",
       "      <td>75</td>\n",
       "      <td>238</td>\n",
       "      <td>2</td>\n",
       "      <td>...</td>\n",
       "      <td>0.5</td>\n",
       "      <td>0.5</td>\n",
       "      <td>0.00</td>\n",
       "      <td>0.00</td>\n",
       "      <td>0.3</td>\n",
       "      <td>11.80</td>\n",
       "      <td>0.0</td>\n",
       "      <td>0.0</td>\n",
       "      <td>11.65</td>\n",
       "      <td>4.53</td>\n",
       "    </tr>\n",
       "  </tbody>\n",
       "</table>\n",
       "<p>5 rows × 21 columns</p>\n",
       "</div>"
      ],
      "text/plain": [
       "   VendorID tpep_pickup_datetime tpep_dropoff_datetime  passenger_count  \\\n",
       "0         2  2021-09-01 06:04:34   2021-09-01 06:15:28              2.0   \n",
       "1         2  2021-09-01 06:26:31   2021-09-01 06:32:39              1.0   \n",
       "2         2  2021-09-01 06:36:15   2021-09-01 06:40:30              2.0   \n",
       "3         1  2021-09-01 00:00:15   2021-09-01 00:18:34              2.0   \n",
       "4         2  2021-09-01 00:44:54   2021-09-01 00:56:33              1.0   \n",
       "\n",
       "   trip_distance  RatecodeID store_and_fwd_flag  PULocationID  DOLocationID  \\\n",
       "0           4.90         1.0                  N            87           229   \n",
       "1           1.13         1.0                  N           162           229   \n",
       "2           1.37         1.0                  N           141           262   \n",
       "3           6.50         1.0                  N            90           260   \n",
       "4           2.32         1.0                  N            75           238   \n",
       "\n",
       "   payment_type  ...  extra  mta_tax  tip_amount  tolls_amount  \\\n",
       "0             1  ...    0.5      0.5        2.00          0.00   \n",
       "1             1  ...    0.5      0.5        1.96          0.00   \n",
       "2             1  ...    0.5      0.5        1.96          0.00   \n",
       "3             2  ...    3.0      0.5        0.00          6.55   \n",
       "4             2  ...    0.5      0.5        0.00          0.00   \n",
       "\n",
       "   improvement_surcharge  total_amount  congestion_surcharge  airport_fee  \\\n",
       "0                    0.3         21.80                   2.5          0.0   \n",
       "1                    0.3         11.76                   2.5          0.0   \n",
       "2                    0.3         11.76                   2.5          0.0   \n",
       "3                    0.3         31.35                   2.5          0.0   \n",
       "4                    0.3         11.80                   0.0          0.0   \n",
       "\n",
       "   travel_time  fare_permil  \n",
       "0        10.90         3.27  \n",
       "1         6.13         5.31  \n",
       "2         4.25         4.38  \n",
       "3        18.32         3.23  \n",
       "4        11.65         4.53  \n",
       "\n",
       "[5 rows x 21 columns]"
      ]
     },
     "execution_count": 8,
     "metadata": {},
     "output_type": "execute_result"
    }
   ],
   "source": [
    "taxi.head()"
   ]
  },
  {
   "cell_type": "markdown",
   "id": "475dd14a",
   "metadata": {},
   "source": [
    "## 3. Data Cleaning"
   ]
  },
  {
   "cell_type": "markdown",
   "id": "bfcb7470",
   "metadata": {},
   "source": [
    "### 3.1 Check Duplicated Rows"
   ]
  },
  {
   "cell_type": "code",
   "execution_count": 9,
   "id": "b454bdb9",
   "metadata": {},
   "outputs": [
    {
     "data": {
      "text/plain": [
       "0"
      ]
     },
     "execution_count": 9,
     "metadata": {},
     "output_type": "execute_result"
    }
   ],
   "source": [
    "taxi.duplicated().sum()"
   ]
  },
  {
   "cell_type": "markdown",
   "id": "c7b7303e",
   "metadata": {},
   "source": [
    "Conclusion : There is no duplicated rows in dataset `taxi` "
   ]
  },
  {
   "cell_type": "markdown",
   "id": "4583cfc0",
   "metadata": {},
   "source": [
    "### 3.2 Remove anomaly values"
   ]
  },
  {
   "cell_type": "code",
   "execution_count": 10,
   "id": "59a83c44",
   "metadata": {},
   "outputs": [],
   "source": [
    "## Remove negative values\n",
    "\n",
    "taxi = taxi[taxi['trip_distance'] > 0]\n",
    "taxi = taxi[taxi['extra'] >= 0]  \n",
    "taxi = taxi[taxi['mta_tax'] >= 0]\n",
    "taxi = taxi[taxi['tolls_amount'] >= 0]\n",
    "taxi = taxi[taxi['improvement_surcharge'] >= 0]\n",
    "taxi = taxi[taxi['congestion_surcharge'] >= 0]\n",
    "taxi = taxi[taxi['airport_fee'] >= 0]"
   ]
  },
  {
   "cell_type": "code",
   "execution_count": 11,
   "id": "703c67a4",
   "metadata": {},
   "outputs": [],
   "source": [
    "## Remove anomaly values\n",
    "\n",
    "taxi = taxi[taxi.RatecodeID != 99]\n",
    "taxi = taxi[taxi.payment_type != 0]"
   ]
  },
  {
   "cell_type": "markdown",
   "id": "ed475560",
   "metadata": {},
   "source": [
    "### 3.3 Handling Missing Values"
   ]
  },
  {
   "cell_type": "code",
   "execution_count": 12,
   "id": "48dd4d24",
   "metadata": {},
   "outputs": [
    {
     "data": {
      "text/plain": [
       "VendorID                 0.0\n",
       "tpep_pickup_datetime     0.0\n",
       "tpep_dropoff_datetime    0.0\n",
       "passenger_count          0.0\n",
       "trip_distance            0.0\n",
       "RatecodeID               0.0\n",
       "store_and_fwd_flag       0.0\n",
       "PULocationID             0.0\n",
       "DOLocationID             0.0\n",
       "payment_type             0.0\n",
       "fare_amount              0.0\n",
       "extra                    0.0\n",
       "mta_tax                  0.0\n",
       "tip_amount               0.0\n",
       "tolls_amount             0.0\n",
       "improvement_surcharge    0.0\n",
       "total_amount             0.0\n",
       "congestion_surcharge     0.0\n",
       "airport_fee              0.0\n",
       "travel_time              0.0\n",
       "fare_permil              0.0\n",
       "dtype: float64"
      ]
     },
     "execution_count": 12,
     "metadata": {},
     "output_type": "execute_result"
    }
   ],
   "source": [
    "# Cek missing values\n",
    "(taxi.isna().sum() * 100 / len(taxi))"
   ]
  },
  {
   "cell_type": "markdown",
   "id": "2d53bee9",
   "metadata": {},
   "source": [
    "Conclusion : There is no missing values in dataset `taxi`"
   ]
  },
  {
   "cell_type": "code",
   "execution_count": 13,
   "id": "c64aa937",
   "metadata": {},
   "outputs": [
    {
     "data": {
      "text/plain": [
       "(2756170, 21)"
      ]
     },
     "execution_count": 13,
     "metadata": {},
     "output_type": "execute_result"
    }
   ],
   "source": [
    "taxi.shape"
   ]
  },
  {
   "cell_type": "markdown",
   "id": "767561be",
   "metadata": {},
   "source": [
    "### 3.4 Feature Transform"
   ]
  },
  {
   "cell_type": "code",
   "execution_count": 14,
   "id": "ed7572a4",
   "metadata": {},
   "outputs": [],
   "source": [
    "## Encod colum `store_and_fwd_flag`\n",
    "def fwd_class(x):\n",
    "    if x == 'N':\n",
    "        return 0\n",
    "    else:\n",
    "        return 1\n",
    "    \n",
    "taxi['store_and_fwd_flag'] = np.vectorize(fwd_class)(taxi['store_and_fwd_flag'])"
   ]
  },
  {
   "cell_type": "markdown",
   "id": "6e472b5d",
   "metadata": {},
   "source": [
    "# Exploratory Data Analysis"
   ]
  },
  {
   "cell_type": "markdown",
   "id": "331c3585",
   "metadata": {},
   "source": [
    "## 4. Descriptive Statistic"
   ]
  },
  {
   "cell_type": "code",
   "execution_count": 15,
   "id": "b141ba4c",
   "metadata": {},
   "outputs": [
    {
     "name": "stdout",
     "output_type": "stream",
     "text": [
      "Numericals Column ['VendorID', 'passenger_count', 'trip_distance', 'RatecodeID', 'store_and_fwd_flag', 'PULocationID', 'DOLocationID', 'payment_type', 'fare_amount', 'extra', 'mta_tax', 'tip_amount', 'tolls_amount', 'improvement_surcharge', 'total_amount', 'congestion_surcharge', 'airport_fee', 'travel_time', 'fare_permil']\n",
      "Categoricals Column []\n"
     ]
    }
   ],
   "source": [
    "numericals = taxi.select_dtypes(include=[\"int\",\"float\"]).columns\n",
    "categoricals = taxi.select_dtypes(\"object\").columns\n",
    "\n",
    "print(\"Numericals Column {}\".format(numericals.to_list()))\n",
    "print(\"Categoricals Column {}\".format(categoricals.to_list()))"
   ]
  },
  {
   "cell_type": "code",
   "execution_count": 16,
   "id": "76470ad3",
   "metadata": {},
   "outputs": [
    {
     "data": {
      "text/html": [
       "<div>\n",
       "<style scoped>\n",
       "    .dataframe tbody tr th:only-of-type {\n",
       "        vertical-align: middle;\n",
       "    }\n",
       "\n",
       "    .dataframe tbody tr th {\n",
       "        vertical-align: top;\n",
       "    }\n",
       "\n",
       "    .dataframe thead th {\n",
       "        text-align: right;\n",
       "    }\n",
       "</style>\n",
       "<table border=\"1\" class=\"dataframe\">\n",
       "  <thead>\n",
       "    <tr style=\"text-align: right;\">\n",
       "      <th></th>\n",
       "      <th>VendorID</th>\n",
       "      <th>passenger_count</th>\n",
       "      <th>trip_distance</th>\n",
       "      <th>RatecodeID</th>\n",
       "      <th>store_and_fwd_flag</th>\n",
       "      <th>PULocationID</th>\n",
       "      <th>DOLocationID</th>\n",
       "      <th>payment_type</th>\n",
       "      <th>fare_amount</th>\n",
       "      <th>extra</th>\n",
       "      <th>mta_tax</th>\n",
       "      <th>tip_amount</th>\n",
       "      <th>tolls_amount</th>\n",
       "      <th>improvement_surcharge</th>\n",
       "      <th>total_amount</th>\n",
       "      <th>congestion_surcharge</th>\n",
       "      <th>airport_fee</th>\n",
       "      <th>travel_time</th>\n",
       "      <th>fare_permil</th>\n",
       "    </tr>\n",
       "  </thead>\n",
       "  <tbody>\n",
       "    <tr>\n",
       "      <th>count</th>\n",
       "      <td>2.756170e+06</td>\n",
       "      <td>2.756170e+06</td>\n",
       "      <td>2.756170e+06</td>\n",
       "      <td>2.756170e+06</td>\n",
       "      <td>2.756170e+06</td>\n",
       "      <td>2.756170e+06</td>\n",
       "      <td>2.756170e+06</td>\n",
       "      <td>2.756170e+06</td>\n",
       "      <td>2.756170e+06</td>\n",
       "      <td>2.756170e+06</td>\n",
       "      <td>2.756170e+06</td>\n",
       "      <td>2.756170e+06</td>\n",
       "      <td>2.756170e+06</td>\n",
       "      <td>2.756170e+06</td>\n",
       "      <td>2.756170e+06</td>\n",
       "      <td>2.756170e+06</td>\n",
       "      <td>2.756170e+06</td>\n",
       "      <td>2.756170e+06</td>\n",
       "      <td>2.756170e+06</td>\n",
       "    </tr>\n",
       "    <tr>\n",
       "      <th>mean</th>\n",
       "      <td>1.696047e+00</td>\n",
       "      <td>1.430740e+00</td>\n",
       "      <td>3.288945e+00</td>\n",
       "      <td>1.044412e+00</td>\n",
       "      <td>1.221405e-02</td>\n",
       "      <td>1.644759e+02</td>\n",
       "      <td>1.625929e+02</td>\n",
       "      <td>1.227698e+00</td>\n",
       "      <td>1.389236e+01</td>\n",
       "      <td>1.076031e+00</td>\n",
       "      <td>4.975562e-01</td>\n",
       "      <td>2.490900e+00</td>\n",
       "      <td>4.065351e-01</td>\n",
       "      <td>2.999842e-01</td>\n",
       "      <td>2.034031e+01</td>\n",
       "      <td>2.329043e+00</td>\n",
       "      <td>7.890478e-02</td>\n",
       "      <td>1.726762e+01</td>\n",
       "      <td>7.666920e+00</td>\n",
       "    </tr>\n",
       "    <tr>\n",
       "      <th>std</th>\n",
       "      <td>4.599625e-01</td>\n",
       "      <td>1.028961e+00</td>\n",
       "      <td>4.479070e+00</td>\n",
       "      <td>2.900675e-01</td>\n",
       "      <td>1.098402e-01</td>\n",
       "      <td>6.562807e+01</td>\n",
       "      <td>7.044312e+01</td>\n",
       "      <td>4.356287e-01</td>\n",
       "      <td>4.930282e+02</td>\n",
       "      <td>1.248941e+00</td>\n",
       "      <td>3.502257e-02</td>\n",
       "      <td>2.854221e+00</td>\n",
       "      <td>1.727150e+00</td>\n",
       "      <td>2.175910e-03</td>\n",
       "      <td>4.931073e+02</td>\n",
       "      <td>6.310046e-01</td>\n",
       "      <td>3.039820e-01</td>\n",
       "      <td>5.968785e+01</td>\n",
       "      <td>2.156760e+02</td>\n",
       "    </tr>\n",
       "    <tr>\n",
       "      <th>min</th>\n",
       "      <td>1.000000e+00</td>\n",
       "      <td>0.000000e+00</td>\n",
       "      <td>1.000000e-02</td>\n",
       "      <td>1.000000e+00</td>\n",
       "      <td>0.000000e+00</td>\n",
       "      <td>1.000000e+00</td>\n",
       "      <td>1.000000e+00</td>\n",
       "      <td>1.000000e+00</td>\n",
       "      <td>0.000000e+00</td>\n",
       "      <td>0.000000e+00</td>\n",
       "      <td>0.000000e+00</td>\n",
       "      <td>0.000000e+00</td>\n",
       "      <td>0.000000e+00</td>\n",
       "      <td>0.000000e+00</td>\n",
       "      <td>0.000000e+00</td>\n",
       "      <td>0.000000e+00</td>\n",
       "      <td>0.000000e+00</td>\n",
       "      <td>0.000000e+00</td>\n",
       "      <td>0.000000e+00</td>\n",
       "    </tr>\n",
       "    <tr>\n",
       "      <th>25%</th>\n",
       "      <td>1.000000e+00</td>\n",
       "      <td>1.000000e+00</td>\n",
       "      <td>1.130000e+00</td>\n",
       "      <td>1.000000e+00</td>\n",
       "      <td>0.000000e+00</td>\n",
       "      <td>1.320000e+02</td>\n",
       "      <td>1.130000e+02</td>\n",
       "      <td>1.000000e+00</td>\n",
       "      <td>7.000000e+00</td>\n",
       "      <td>0.000000e+00</td>\n",
       "      <td>5.000000e-01</td>\n",
       "      <td>0.000000e+00</td>\n",
       "      <td>0.000000e+00</td>\n",
       "      <td>3.000000e-01</td>\n",
       "      <td>1.180000e+01</td>\n",
       "      <td>2.500000e+00</td>\n",
       "      <td>0.000000e+00</td>\n",
       "      <td>7.220000e+00</td>\n",
       "      <td>4.130000e+00</td>\n",
       "    </tr>\n",
       "    <tr>\n",
       "      <th>50%</th>\n",
       "      <td>2.000000e+00</td>\n",
       "      <td>1.000000e+00</td>\n",
       "      <td>1.890000e+00</td>\n",
       "      <td>1.000000e+00</td>\n",
       "      <td>0.000000e+00</td>\n",
       "      <td>1.620000e+02</td>\n",
       "      <td>1.620000e+02</td>\n",
       "      <td>1.000000e+00</td>\n",
       "      <td>1.000000e+01</td>\n",
       "      <td>5.000000e-01</td>\n",
       "      <td>5.000000e-01</td>\n",
       "      <td>2.060000e+00</td>\n",
       "      <td>0.000000e+00</td>\n",
       "      <td>3.000000e-01</td>\n",
       "      <td>1.536000e+01</td>\n",
       "      <td>2.500000e+00</td>\n",
       "      <td>0.000000e+00</td>\n",
       "      <td>1.168000e+01</td>\n",
       "      <td>5.120000e+00</td>\n",
       "    </tr>\n",
       "    <tr>\n",
       "      <th>75%</th>\n",
       "      <td>2.000000e+00</td>\n",
       "      <td>1.000000e+00</td>\n",
       "      <td>3.360000e+00</td>\n",
       "      <td>1.000000e+00</td>\n",
       "      <td>0.000000e+00</td>\n",
       "      <td>2.340000e+02</td>\n",
       "      <td>2.340000e+02</td>\n",
       "      <td>1.000000e+00</td>\n",
       "      <td>1.500000e+01</td>\n",
       "      <td>2.500000e+00</td>\n",
       "      <td>5.000000e-01</td>\n",
       "      <td>3.160000e+00</td>\n",
       "      <td>0.000000e+00</td>\n",
       "      <td>3.000000e-01</td>\n",
       "      <td>2.136000e+01</td>\n",
       "      <td>2.500000e+00</td>\n",
       "      <td>0.000000e+00</td>\n",
       "      <td>1.858000e+01</td>\n",
       "      <td>6.360000e+00</td>\n",
       "    </tr>\n",
       "    <tr>\n",
       "      <th>max</th>\n",
       "      <td>2.000000e+00</td>\n",
       "      <td>9.000000e+00</td>\n",
       "      <td>7.915400e+02</td>\n",
       "      <td>6.000000e+00</td>\n",
       "      <td>1.000000e+00</td>\n",
       "      <td>2.650000e+02</td>\n",
       "      <td>2.650000e+02</td>\n",
       "      <td>4.000000e+00</td>\n",
       "      <td>8.182834e+05</td>\n",
       "      <td>9.000000e+00</td>\n",
       "      <td>3.300000e+00</td>\n",
       "      <td>3.333300e+02</td>\n",
       "      <td>9.600000e+01</td>\n",
       "      <td>3.000000e-01</td>\n",
       "      <td>8.182867e+05</td>\n",
       "      <td>2.750000e+00</td>\n",
       "      <td>1.250000e+00</td>\n",
       "      <td>8.510870e+03</td>\n",
       "      <td>3.273134e+05</td>\n",
       "    </tr>\n",
       "  </tbody>\n",
       "</table>\n",
       "</div>"
      ],
      "text/plain": [
       "           VendorID  passenger_count  trip_distance    RatecodeID  \\\n",
       "count  2.756170e+06     2.756170e+06   2.756170e+06  2.756170e+06   \n",
       "mean   1.696047e+00     1.430740e+00   3.288945e+00  1.044412e+00   \n",
       "std    4.599625e-01     1.028961e+00   4.479070e+00  2.900675e-01   \n",
       "min    1.000000e+00     0.000000e+00   1.000000e-02  1.000000e+00   \n",
       "25%    1.000000e+00     1.000000e+00   1.130000e+00  1.000000e+00   \n",
       "50%    2.000000e+00     1.000000e+00   1.890000e+00  1.000000e+00   \n",
       "75%    2.000000e+00     1.000000e+00   3.360000e+00  1.000000e+00   \n",
       "max    2.000000e+00     9.000000e+00   7.915400e+02  6.000000e+00   \n",
       "\n",
       "       store_and_fwd_flag  PULocationID  DOLocationID  payment_type  \\\n",
       "count        2.756170e+06  2.756170e+06  2.756170e+06  2.756170e+06   \n",
       "mean         1.221405e-02  1.644759e+02  1.625929e+02  1.227698e+00   \n",
       "std          1.098402e-01  6.562807e+01  7.044312e+01  4.356287e-01   \n",
       "min          0.000000e+00  1.000000e+00  1.000000e+00  1.000000e+00   \n",
       "25%          0.000000e+00  1.320000e+02  1.130000e+02  1.000000e+00   \n",
       "50%          0.000000e+00  1.620000e+02  1.620000e+02  1.000000e+00   \n",
       "75%          0.000000e+00  2.340000e+02  2.340000e+02  1.000000e+00   \n",
       "max          1.000000e+00  2.650000e+02  2.650000e+02  4.000000e+00   \n",
       "\n",
       "        fare_amount         extra       mta_tax    tip_amount  tolls_amount  \\\n",
       "count  2.756170e+06  2.756170e+06  2.756170e+06  2.756170e+06  2.756170e+06   \n",
       "mean   1.389236e+01  1.076031e+00  4.975562e-01  2.490900e+00  4.065351e-01   \n",
       "std    4.930282e+02  1.248941e+00  3.502257e-02  2.854221e+00  1.727150e+00   \n",
       "min    0.000000e+00  0.000000e+00  0.000000e+00  0.000000e+00  0.000000e+00   \n",
       "25%    7.000000e+00  0.000000e+00  5.000000e-01  0.000000e+00  0.000000e+00   \n",
       "50%    1.000000e+01  5.000000e-01  5.000000e-01  2.060000e+00  0.000000e+00   \n",
       "75%    1.500000e+01  2.500000e+00  5.000000e-01  3.160000e+00  0.000000e+00   \n",
       "max    8.182834e+05  9.000000e+00  3.300000e+00  3.333300e+02  9.600000e+01   \n",
       "\n",
       "       improvement_surcharge  total_amount  congestion_surcharge  \\\n",
       "count           2.756170e+06  2.756170e+06          2.756170e+06   \n",
       "mean            2.999842e-01  2.034031e+01          2.329043e+00   \n",
       "std             2.175910e-03  4.931073e+02          6.310046e-01   \n",
       "min             0.000000e+00  0.000000e+00          0.000000e+00   \n",
       "25%             3.000000e-01  1.180000e+01          2.500000e+00   \n",
       "50%             3.000000e-01  1.536000e+01          2.500000e+00   \n",
       "75%             3.000000e-01  2.136000e+01          2.500000e+00   \n",
       "max             3.000000e-01  8.182867e+05          2.750000e+00   \n",
       "\n",
       "        airport_fee   travel_time   fare_permil  \n",
       "count  2.756170e+06  2.756170e+06  2.756170e+06  \n",
       "mean   7.890478e-02  1.726762e+01  7.666920e+00  \n",
       "std    3.039820e-01  5.968785e+01  2.156760e+02  \n",
       "min    0.000000e+00  0.000000e+00  0.000000e+00  \n",
       "25%    0.000000e+00  7.220000e+00  4.130000e+00  \n",
       "50%    0.000000e+00  1.168000e+01  5.120000e+00  \n",
       "75%    0.000000e+00  1.858000e+01  6.360000e+00  \n",
       "max    1.250000e+00  8.510870e+03  3.273134e+05  "
      ]
     },
     "execution_count": 16,
     "metadata": {},
     "output_type": "execute_result"
    }
   ],
   "source": [
    "# Numericals Statistical Summary\n",
    "taxi[numericals].describe()"
   ]
  },
  {
   "cell_type": "markdown",
   "id": "10c7f873",
   "metadata": {},
   "source": [
    "Conlcusion : \n",
    "\n",
    "- Average of trip distance is 3,2 mils\n",
    "- Average of cost fare per mil is 7,6 dollar\n",
    "- Average of travel time is 17,2 minutes"
   ]
  },
  {
   "cell_type": "markdown",
   "id": "1140fbda",
   "metadata": {},
   "source": [
    "## 5. Univariate Analysis"
   ]
  },
  {
   "cell_type": "markdown",
   "id": "382bd650",
   "metadata": {},
   "source": [
    "### 5.1 Handling Outliers"
   ]
  },
  {
   "cell_type": "code",
   "execution_count": 17,
   "id": "485653bf",
   "metadata": {},
   "outputs": [
    {
     "data": {
      "image/png": "[encoded data removed]",
      "text/plain": [
       "<Figure size 1440x432 with 19 Axes>"
      ]
     },
     "metadata": {
      "needs_background": "light"
     },
     "output_type": "display_data"
    }
   ],
   "source": [
    "plt.figure(figsize=(20,6))\n",
    "features = numericals\n",
    "for i in range(0, len(features)):\n",
    "    plt.subplot(1, len(features), i+1)\n",
    "    sns.boxplot(y=taxi[features[i]], color='#778da9')\n",
    "    plt.tight_layout()"
   ]
  },
  {
   "cell_type": "markdown",
   "id": "2b82f6c4",
   "metadata": {},
   "source": [
    "Conclusion :\n",
    "- There is some column that have outliers, including `trip_distance`,`fare_amount`,`tolls_amount`,`total_amount`, `minutes`, and `fare_permil`"
   ]
  },
  {
   "cell_type": "markdown",
   "id": "39f76f7d",
   "metadata": {},
   "source": [
    "### a. trip_distance"
   ]
  },
  {
   "cell_type": "code",
   "execution_count": 18,
   "id": "fc00c7c4",
   "metadata": {},
   "outputs": [
    {
     "data": {
      "text/plain": [
       "1640562    791.54\n",
       "2380491    747.30\n",
       "28415      601.30\n",
       "2375151    582.70\n",
       "436045     543.00\n",
       "Name: trip_distance, dtype: float64"
      ]
     },
     "execution_count": 18,
     "metadata": {},
     "output_type": "execute_result"
    }
   ],
   "source": [
    "taxi['trip_distance'].sort_values(ascending=[False]).head()"
   ]
  },
  {
   "cell_type": "markdown",
   "id": "2efa4c82",
   "metadata": {},
   "source": [
    "Conlusion :  There no extreme gap between the data, no need remove outliers"
   ]
  },
  {
   "cell_type": "markdown",
   "id": "44dc7f71",
   "metadata": {},
   "source": [
    "### b. fare_amount"
   ]
  },
  {
   "cell_type": "code",
   "execution_count": 19,
   "id": "43569420",
   "metadata": {},
   "outputs": [
    {
     "name": "stdout",
     "output_type": "stream",
     "text": [
      "99.0 percentile value is 52.0\n",
      "99.1 percentile value is 53.0\n",
      "99.2 percentile value is 55.0\n",
      "99.3 percentile value is 57.5\n",
      "99.4 percentile value is 60.0\n",
      "99.5 percentile value is 63.5\n",
      "99.6 percentile value is 66.0\n",
      "99.7 percentile value is 70.0\n",
      "99.8 percentile value is 77.0\n",
      "99.9 percentile value is 98.5\n",
      "100 percentile value is  818283.44\n"
     ]
    }
   ],
   "source": [
    "for i in np.arange(0.0, 1.0, 0.1):\n",
    "    var =taxi[\"fare_amount\"].values\n",
    "    var = np.sort(var,axis = None)\n",
    "    print(\"{} percentile value is {}\".format(99+i,var[int(len(var)*(float(99+i)/100))]))\n",
    "print(\"100 percentile value is \",var[-1])"
   ]
  },
  {
   "cell_type": "code",
   "execution_count": 20,
   "id": "f9a11935",
   "metadata": {},
   "outputs": [
    {
     "data": {
      "text/plain": [
       "394006     818283.44\n",
       "2265336       695.00\n",
       "670797        554.00\n",
       "802611        529.50\n",
       "1754811       520.00\n",
       "Name: fare_amount, dtype: float64"
      ]
     },
     "execution_count": 20,
     "metadata": {},
     "output_type": "execute_result"
    }
   ],
   "source": [
    "taxi['fare_amount'].sort_values(ascending=[False]).head()"
   ]
  },
  {
   "cell_type": "code",
   "execution_count": 21,
   "id": "4c59da93",
   "metadata": {},
   "outputs": [],
   "source": [
    "taxi_mod = taxi[(taxi.fare_amount>0) & (taxi.fare_amount<700)]"
   ]
  },
  {
   "cell_type": "markdown",
   "id": "305979dc",
   "metadata": {},
   "source": [
    "Conlusion :  Remove outliers with values more than 700"
   ]
  },
  {
   "cell_type": "markdown",
   "id": "9531a579",
   "metadata": {},
   "source": [
    "### c. tolls_amount"
   ]
  },
  {
   "cell_type": "code",
   "execution_count": 22,
   "id": "a77572be",
   "metadata": {},
   "outputs": [
    {
     "data": {
      "text/plain": [
       "204        96.00\n",
       "1082305    94.66\n",
       "119143     88.00\n",
       "1226280    81.00\n",
       "1738145    77.00\n",
       "Name: tolls_amount, dtype: float64"
      ]
     },
     "execution_count": 22,
     "metadata": {},
     "output_type": "execute_result"
    }
   ],
   "source": [
    "taxi_mod['tolls_amount'].sort_values(ascending=[False]).head()"
   ]
  },
  {
   "cell_type": "markdown",
   "id": "a3a89faa",
   "metadata": {},
   "source": [
    "Conlusion :  There no extreme gap between the data, no need remove outliers"
   ]
  },
  {
   "cell_type": "markdown",
   "id": "d779020e",
   "metadata": {},
   "source": [
    "### d. total_amount"
   ]
  },
  {
   "cell_type": "code",
   "execution_count": 23,
   "id": "15f079c4",
   "metadata": {},
   "outputs": [
    {
     "data": {
      "text/plain": [
       "394006     818286.74\n",
       "2265336       695.30\n",
       "119143        590.90\n",
       "670797        567.90\n",
       "2402457       564.51\n",
       "Name: total_amount, dtype: float64"
      ]
     },
     "execution_count": 23,
     "metadata": {},
     "output_type": "execute_result"
    }
   ],
   "source": [
    "taxi['total_amount'].sort_values(ascending=[False]).head()"
   ]
  },
  {
   "cell_type": "code",
   "execution_count": 24,
   "id": "0a3dbc11",
   "metadata": {},
   "outputs": [],
   "source": [
    "taxi_mod = taxi_mod[(taxi_mod.total_amount<700)]"
   ]
  },
  {
   "cell_type": "markdown",
   "id": "aee79323",
   "metadata": {},
   "source": [
    "Conlusion :  Remove outliers with values more than 700"
   ]
  },
  {
   "cell_type": "markdown",
   "id": "1eb84b98",
   "metadata": {},
   "source": [
    "### e. minutes"
   ]
  },
  {
   "cell_type": "code",
   "execution_count": 25,
   "id": "da9fa973",
   "metadata": {},
   "outputs": [
    {
     "data": {
      "text/plain": [
       "80157      8510.87\n",
       "80156      8470.35\n",
       "78435      8148.75\n",
       "1776439    5739.67\n",
       "76245      2921.10\n",
       "Name: travel_time, dtype: float64"
      ]
     },
     "execution_count": 25,
     "metadata": {},
     "output_type": "execute_result"
    }
   ],
   "source": [
    "taxi['travel_time'].sort_values(ascending=[False]).head()"
   ]
  },
  {
   "cell_type": "markdown",
   "id": "9df02410",
   "metadata": {},
   "source": [
    "Conlusion :  There no extreme gap between the data, no need remove outliers"
   ]
  },
  {
   "cell_type": "markdown",
   "id": "122c2ec7",
   "metadata": {},
   "source": [
    "### f. fare_permil"
   ]
  },
  {
   "cell_type": "code",
   "execution_count": 26,
   "id": "b2338f4f",
   "metadata": {},
   "outputs": [
    {
     "data": {
      "text/plain": [
       "394006     327313.38\n",
       "2486995     30000.00\n",
       "476970      16500.00\n",
       "337245      16500.00\n",
       "200690      15000.00\n",
       "Name: fare_permil, dtype: float64"
      ]
     },
     "execution_count": 26,
     "metadata": {},
     "output_type": "execute_result"
    }
   ],
   "source": [
    "taxi['fare_permil'].sort_values(ascending=[False]).head()"
   ]
  },
  {
   "cell_type": "code",
   "execution_count": 27,
   "id": "e18b0f85",
   "metadata": {},
   "outputs": [],
   "source": [
    "taxi_mod = taxi_mod[(taxi_mod.fare_permil<17000)]"
   ]
  },
  {
   "cell_type": "markdown",
   "id": "b084077e",
   "metadata": {},
   "source": [
    "Conlusion :  Remove outliers with values more than 17000"
   ]
  },
  {
   "cell_type": "markdown",
   "id": "c2cf8b7f",
   "metadata": {},
   "source": [
    "## 6. Multivariate Analysis"
   ]
  },
  {
   "cell_type": "markdown",
   "id": "33dd5303",
   "metadata": {},
   "source": [
    "### 6.1 Correlation heatmap"
   ]
  },
  {
   "cell_type": "code",
   "execution_count": 28,
   "id": "3e82cafe",
   "metadata": {},
   "outputs": [
    {
     "data": {
      "image/png": "[encoded data removed]",
      "text/plain": [
       "<Figure size 1440x1296 with 2 Axes>"
      ]
     },
     "metadata": {
      "needs_background": "light"
     },
     "output_type": "display_data"
    }
   ],
   "source": [
    "fig, ax = plt.subplots(figsize = (20, 18))\n",
    "sns.heatmap(taxi_mod.corr(),cbar=True,annot=True,linewidths=0.5,ax=ax,fmt='.3f',cmap=\"YlGnBu\")\n",
    "plt.show()"
   ]
  },
  {
   "cell_type": "markdown",
   "id": "da7bc2cb",
   "metadata": {},
   "source": [
    "Conclusion :\n",
    "\n",
    "Feature yang memiliki korelasi tinggi (>2) pada target variabel (`total_amount`) adalah :\n",
    "- `fare_amount`\n",
    "- `trip_distance`\n",
    "- `tolls_amount`\n",
    "- `tip_amount`\n",
    "- `RatecodeID`\n",
    "- `airport_fee`\n",
    "- `mta_tax`\n",
    "- `congestion_surcharge`"
   ]
  },
  {
   "cell_type": "markdown",
   "id": "259046cc",
   "metadata": {},
   "source": [
    "# Dive Question"
   ]
  },
  {
   "cell_type": "code",
   "execution_count": 29,
   "id": "040c3b5d",
   "metadata": {},
   "outputs": [],
   "source": [
    "df = taxi_mod.copy()"
   ]
  },
  {
   "cell_type": "markdown",
   "id": "e2f8d797",
   "metadata": {},
   "source": [
    "## 7. Deep Dive Question"
   ]
  },
  {
   "cell_type": "markdown",
   "id": "33b86e06",
   "metadata": {},
   "source": [
    "### A. Apa yang menyebabkan layanan yellow taxi hanya berpusat di boroughs tertentu sehingga menyebabkan ketidakseimbangan permintaan dan penawaran pada boroughs lain?"
   ]
  },
  {
   "cell_type": "markdown",
   "id": "76e186dd",
   "metadata": {},
   "source": [
    "### A1. Boroughs dengan jumlah transaksi taxi terbanyak"
   ]
  },
  {
   "cell_type": "code",
   "execution_count": 30,
   "id": "73e3f111",
   "metadata": {},
   "outputs": [
    {
     "data": {
      "text/plain": [
       "237    138657\n",
       "236    123842\n",
       "132    108283\n",
       "161     95178\n",
       "186     93247\n",
       "142     89594\n",
       "162     87222\n",
       "170     86454\n",
       "48      82297\n",
       "239     80284\n",
       "Name: PULocationID, dtype: int64"
      ]
     },
     "execution_count": 30,
     "metadata": {},
     "output_type": "execute_result"
    }
   ],
   "source": [
    "df['PULocationID'].value_counts().head(10)"
   ]
  },
  {
   "cell_type": "markdown",
   "id": "0945baa8",
   "metadata": {},
   "source": [
    "- Manhattan = 237, 236, 161, 186, 142, 162, 170, 48, 239, 141, 234, 79, 163, 230, 68, 107, 263,238\n",
    "- Queens = 132, 138"
   ]
  },
  {
   "cell_type": "markdown",
   "id": "4afb4714",
   "metadata": {},
   "source": [
    "Conclusion :\n",
    "\n",
    "Dari analisa tersebut dapat dinyatakan bahwa daerah dengan transaksi tertinggi adalah Manhattan, maka akan dipisahkan dataset antara transaksi daerah Manhattan dan Non-Manhattan"
   ]
  },
  {
   "cell_type": "code",
   "execution_count": 31,
   "id": "cb45f99b",
   "metadata": {},
   "outputs": [],
   "source": [
    "list_manhattan = [103,104,105,12,88,81,261,13,209,231,45,232,148,144,211,125,4,79,114,113,249,158,224,107,234,90,68,246,186,164,137,170,100,50,48,230,161,162,233,229,163,143,142,43,237,141,140,202,262,263,236,75,239,238,151,24,166,41,74,194,152,42,116,244,120,243,127,128,153]\n",
    "\n",
    "manhattan = df.loc[df['PULocationID'].isin(list_manhattan) & df['DOLocationID'].isin(list_manhattan)]\n",
    "not_manhattan = df[~df.index.isin(manhattan.index)]"
   ]
  },
  {
   "cell_type": "code",
   "execution_count": 32,
   "id": "1255c484",
   "metadata": {},
   "outputs": [
    {
     "data": {
      "text/html": [
       "<div>\n",
       "<style scoped>\n",
       "    .dataframe tbody tr th:only-of-type {\n",
       "        vertical-align: middle;\n",
       "    }\n",
       "\n",
       "    .dataframe tbody tr th {\n",
       "        vertical-align: top;\n",
       "    }\n",
       "\n",
       "    .dataframe thead th {\n",
       "        text-align: right;\n",
       "    }\n",
       "</style>\n",
       "<table border=\"1\" class=\"dataframe\">\n",
       "  <thead>\n",
       "    <tr style=\"text-align: right;\">\n",
       "      <th></th>\n",
       "      <th>VendorID</th>\n",
       "      <th>passenger_count</th>\n",
       "      <th>trip_distance</th>\n",
       "      <th>RatecodeID</th>\n",
       "      <th>store_and_fwd_flag</th>\n",
       "      <th>PULocationID</th>\n",
       "      <th>DOLocationID</th>\n",
       "      <th>payment_type</th>\n",
       "      <th>fare_amount</th>\n",
       "      <th>extra</th>\n",
       "      <th>mta_tax</th>\n",
       "      <th>tip_amount</th>\n",
       "      <th>tolls_amount</th>\n",
       "      <th>improvement_surcharge</th>\n",
       "      <th>total_amount</th>\n",
       "      <th>congestion_surcharge</th>\n",
       "      <th>airport_fee</th>\n",
       "      <th>travel_time</th>\n",
       "      <th>fare_permil</th>\n",
       "    </tr>\n",
       "  </thead>\n",
       "  <tbody>\n",
       "    <tr>\n",
       "      <th>count</th>\n",
       "      <td>2.327658e+06</td>\n",
       "      <td>2.327658e+06</td>\n",
       "      <td>2.327658e+06</td>\n",
       "      <td>2.327658e+06</td>\n",
       "      <td>2.327658e+06</td>\n",
       "      <td>2.327658e+06</td>\n",
       "      <td>2.327658e+06</td>\n",
       "      <td>2.327658e+06</td>\n",
       "      <td>2.327658e+06</td>\n",
       "      <td>2.327658e+06</td>\n",
       "      <td>2.327658e+06</td>\n",
       "      <td>2.327658e+06</td>\n",
       "      <td>2.327658e+06</td>\n",
       "      <td>2.327658e+06</td>\n",
       "      <td>2.327658e+06</td>\n",
       "      <td>2.327658e+06</td>\n",
       "      <td>2.327658e+06</td>\n",
       "      <td>2.327658e+06</td>\n",
       "      <td>2.327658e+06</td>\n",
       "    </tr>\n",
       "    <tr>\n",
       "      <th>mean</th>\n",
       "      <td>1.694961e+00</td>\n",
       "      <td>1.426047e+00</td>\n",
       "      <td>2.044649e+00</td>\n",
       "      <td>1.003450e+00</td>\n",
       "      <td>1.232956e-02</td>\n",
       "      <td>1.674336e+02</td>\n",
       "      <td>1.664879e+02</td>\n",
       "      <td>1.219951e+00</td>\n",
       "      <td>1.015237e+01</td>\n",
       "      <td>1.076081e+00</td>\n",
       "      <td>4.993294e-01</td>\n",
       "      <td>2.004868e+00</td>\n",
       "      <td>5.924629e-03</td>\n",
       "      <td>2.999960e-01</td>\n",
       "      <td>1.573544e+01</td>\n",
       "      <td>2.441129e+00</td>\n",
       "      <td>1.551989e-04</td>\n",
       "      <td>1.418417e+01</td>\n",
       "      <td>7.334288e+00</td>\n",
       "    </tr>\n",
       "    <tr>\n",
       "      <th>std</th>\n",
       "      <td>4.604241e-01</td>\n",
       "      <td>1.029098e+00</td>\n",
       "      <td>1.875353e+00</td>\n",
       "      <td>1.060116e-01</td>\n",
       "      <td>1.103519e-01</td>\n",
       "      <td>6.656190e+01</td>\n",
       "      <td>6.851077e+01</td>\n",
       "      <td>4.286434e-01</td>\n",
       "      <td>5.284383e+00</td>\n",
       "      <td>1.211585e+00</td>\n",
       "      <td>1.851442e-02</td>\n",
       "      <td>1.755455e+00</td>\n",
       "      <td>2.340205e-01</td>\n",
       "      <td>1.094812e-03</td>\n",
       "      <td>6.263715e+00</td>\n",
       "      <td>3.790907e-01</td>\n",
       "      <td>1.392748e-02</td>\n",
       "      <td>5.583754e+01</td>\n",
       "      <td>7.111001e+01</td>\n",
       "    </tr>\n",
       "    <tr>\n",
       "      <th>min</th>\n",
       "      <td>1.000000e+00</td>\n",
       "      <td>0.000000e+00</td>\n",
       "      <td>1.000000e-02</td>\n",
       "      <td>1.000000e+00</td>\n",
       "      <td>0.000000e+00</td>\n",
       "      <td>4.000000e+00</td>\n",
       "      <td>4.000000e+00</td>\n",
       "      <td>1.000000e+00</td>\n",
       "      <td>1.000000e-02</td>\n",
       "      <td>0.000000e+00</td>\n",
       "      <td>0.000000e+00</td>\n",
       "      <td>0.000000e+00</td>\n",
       "      <td>0.000000e+00</td>\n",
       "      <td>0.000000e+00</td>\n",
       "      <td>3.100000e-01</td>\n",
       "      <td>0.000000e+00</td>\n",
       "      <td>0.000000e+00</td>\n",
       "      <td>0.000000e+00</td>\n",
       "      <td>0.000000e+00</td>\n",
       "    </tr>\n",
       "    <tr>\n",
       "      <th>25%</th>\n",
       "      <td>1.000000e+00</td>\n",
       "      <td>1.000000e+00</td>\n",
       "      <td>1.050000e+00</td>\n",
       "      <td>1.000000e+00</td>\n",
       "      <td>0.000000e+00</td>\n",
       "      <td>1.160000e+02</td>\n",
       "      <td>1.140000e+02</td>\n",
       "      <td>1.000000e+00</td>\n",
       "      <td>6.500000e+00</td>\n",
       "      <td>0.000000e+00</td>\n",
       "      <td>5.000000e-01</td>\n",
       "      <td>9.500000e-01</td>\n",
       "      <td>0.000000e+00</td>\n",
       "      <td>3.000000e-01</td>\n",
       "      <td>1.163000e+01</td>\n",
       "      <td>2.500000e+00</td>\n",
       "      <td>0.000000e+00</td>\n",
       "      <td>6.670000e+00</td>\n",
       "      <td>4.520000e+00</td>\n",
       "    </tr>\n",
       "    <tr>\n",
       "      <th>50%</th>\n",
       "      <td>2.000000e+00</td>\n",
       "      <td>1.000000e+00</td>\n",
       "      <td>1.650000e+00</td>\n",
       "      <td>1.000000e+00</td>\n",
       "      <td>0.000000e+00</td>\n",
       "      <td>1.630000e+02</td>\n",
       "      <td>1.630000e+02</td>\n",
       "      <td>1.000000e+00</td>\n",
       "      <td>9.000000e+00</td>\n",
       "      <td>5.000000e-01</td>\n",
       "      <td>5.000000e-01</td>\n",
       "      <td>2.000000e+00</td>\n",
       "      <td>0.000000e+00</td>\n",
       "      <td>3.000000e-01</td>\n",
       "      <td>1.430000e+01</td>\n",
       "      <td>2.500000e+00</td>\n",
       "      <td>0.000000e+00</td>\n",
       "      <td>1.042000e+01</td>\n",
       "      <td>5.400000e+00</td>\n",
       "    </tr>\n",
       "    <tr>\n",
       "      <th>75%</th>\n",
       "      <td>2.000000e+00</td>\n",
       "      <td>1.000000e+00</td>\n",
       "      <td>2.570000e+00</td>\n",
       "      <td>1.000000e+00</td>\n",
       "      <td>0.000000e+00</td>\n",
       "      <td>2.360000e+02</td>\n",
       "      <td>2.360000e+02</td>\n",
       "      <td>1.000000e+00</td>\n",
       "      <td>1.250000e+01</td>\n",
       "      <td>2.500000e+00</td>\n",
       "      <td>5.000000e-01</td>\n",
       "      <td>2.950000e+00</td>\n",
       "      <td>0.000000e+00</td>\n",
       "      <td>3.000000e-01</td>\n",
       "      <td>1.836000e+01</td>\n",
       "      <td>2.500000e+00</td>\n",
       "      <td>0.000000e+00</td>\n",
       "      <td>1.563000e+01</td>\n",
       "      <td>6.600000e+00</td>\n",
       "    </tr>\n",
       "    <tr>\n",
       "      <th>max</th>\n",
       "      <td>2.000000e+00</td>\n",
       "      <td>9.000000e+00</td>\n",
       "      <td>3.347000e+02</td>\n",
       "      <td>6.000000e+00</td>\n",
       "      <td>1.000000e+00</td>\n",
       "      <td>2.630000e+02</td>\n",
       "      <td>2.630000e+02</td>\n",
       "      <td>4.000000e+00</td>\n",
       "      <td>5.295000e+02</td>\n",
       "      <td>7.000000e+00</td>\n",
       "      <td>3.300000e+00</td>\n",
       "      <td>3.333300e+02</td>\n",
       "      <td>9.600000e+01</td>\n",
       "      <td>3.000000e-01</td>\n",
       "      <td>5.353000e+02</td>\n",
       "      <td>2.500000e+00</td>\n",
       "      <td>1.250000e+00</td>\n",
       "      <td>2.278130e+03</td>\n",
       "      <td>1.100000e+04</td>\n",
       "    </tr>\n",
       "  </tbody>\n",
       "</table>\n",
       "</div>"
      ],
      "text/plain": [
       "           VendorID  passenger_count  trip_distance    RatecodeID  \\\n",
       "count  2.327658e+06     2.327658e+06   2.327658e+06  2.327658e+06   \n",
       "mean   1.694961e+00     1.426047e+00   2.044649e+00  1.003450e+00   \n",
       "std    4.604241e-01     1.029098e+00   1.875353e+00  1.060116e-01   \n",
       "min    1.000000e+00     0.000000e+00   1.000000e-02  1.000000e+00   \n",
       "25%    1.000000e+00     1.000000e+00   1.050000e+00  1.000000e+00   \n",
       "50%    2.000000e+00     1.000000e+00   1.650000e+00  1.000000e+00   \n",
       "75%    2.000000e+00     1.000000e+00   2.570000e+00  1.000000e+00   \n",
       "max    2.000000e+00     9.000000e+00   3.347000e+02  6.000000e+00   \n",
       "\n",
       "       store_and_fwd_flag  PULocationID  DOLocationID  payment_type  \\\n",
       "count        2.327658e+06  2.327658e+06  2.327658e+06  2.327658e+06   \n",
       "mean         1.232956e-02  1.674336e+02  1.664879e+02  1.219951e+00   \n",
       "std          1.103519e-01  6.656190e+01  6.851077e+01  4.286434e-01   \n",
       "min          0.000000e+00  4.000000e+00  4.000000e+00  1.000000e+00   \n",
       "25%          0.000000e+00  1.160000e+02  1.140000e+02  1.000000e+00   \n",
       "50%          0.000000e+00  1.630000e+02  1.630000e+02  1.000000e+00   \n",
       "75%          0.000000e+00  2.360000e+02  2.360000e+02  1.000000e+00   \n",
       "max          1.000000e+00  2.630000e+02  2.630000e+02  4.000000e+00   \n",
       "\n",
       "        fare_amount         extra       mta_tax    tip_amount  tolls_amount  \\\n",
       "count  2.327658e+06  2.327658e+06  2.327658e+06  2.327658e+06  2.327658e+06   \n",
       "mean   1.015237e+01  1.076081e+00  4.993294e-01  2.004868e+00  5.924629e-03   \n",
       "std    5.284383e+00  1.211585e+00  1.851442e-02  1.755455e+00  2.340205e-01   \n",
       "min    1.000000e-02  0.000000e+00  0.000000e+00  0.000000e+00  0.000000e+00   \n",
       "25%    6.500000e+00  0.000000e+00  5.000000e-01  9.500000e-01  0.000000e+00   \n",
       "50%    9.000000e+00  5.000000e-01  5.000000e-01  2.000000e+00  0.000000e+00   \n",
       "75%    1.250000e+01  2.500000e+00  5.000000e-01  2.950000e+00  0.000000e+00   \n",
       "max    5.295000e+02  7.000000e+00  3.300000e+00  3.333300e+02  9.600000e+01   \n",
       "\n",
       "       improvement_surcharge  total_amount  congestion_surcharge  \\\n",
       "count           2.327658e+06  2.327658e+06          2.327658e+06   \n",
       "mean            2.999960e-01  1.573544e+01          2.441129e+00   \n",
       "std             1.094812e-03  6.263715e+00          3.790907e-01   \n",
       "min             0.000000e+00  3.100000e-01          0.000000e+00   \n",
       "25%             3.000000e-01  1.163000e+01          2.500000e+00   \n",
       "50%             3.000000e-01  1.430000e+01          2.500000e+00   \n",
       "75%             3.000000e-01  1.836000e+01          2.500000e+00   \n",
       "max             3.000000e-01  5.353000e+02          2.500000e+00   \n",
       "\n",
       "        airport_fee   travel_time   fare_permil  \n",
       "count  2.327658e+06  2.327658e+06  2.327658e+06  \n",
       "mean   1.551989e-04  1.418417e+01  7.334288e+00  \n",
       "std    1.392748e-02  5.583754e+01  7.111001e+01  \n",
       "min    0.000000e+00  0.000000e+00  0.000000e+00  \n",
       "25%    0.000000e+00  6.670000e+00  4.520000e+00  \n",
       "50%    0.000000e+00  1.042000e+01  5.400000e+00  \n",
       "75%    0.000000e+00  1.563000e+01  6.600000e+00  \n",
       "max    1.250000e+00  2.278130e+03  1.100000e+04  "
      ]
     },
     "execution_count": 32,
     "metadata": {},
     "output_type": "execute_result"
    }
   ],
   "source": [
    "manhattan.describe()"
   ]
  },
  {
   "cell_type": "code",
   "execution_count": 33,
   "id": "0425a187",
   "metadata": {},
   "outputs": [
    {
     "data": {
      "text/html": [
       "<div>\n",
       "<style scoped>\n",
       "    .dataframe tbody tr th:only-of-type {\n",
       "        vertical-align: middle;\n",
       "    }\n",
       "\n",
       "    .dataframe tbody tr th {\n",
       "        vertical-align: top;\n",
       "    }\n",
       "\n",
       "    .dataframe thead th {\n",
       "        text-align: right;\n",
       "    }\n",
       "</style>\n",
       "<table border=\"1\" class=\"dataframe\">\n",
       "  <thead>\n",
       "    <tr style=\"text-align: right;\">\n",
       "      <th></th>\n",
       "      <th>VendorID</th>\n",
       "      <th>passenger_count</th>\n",
       "      <th>trip_distance</th>\n",
       "      <th>RatecodeID</th>\n",
       "      <th>store_and_fwd_flag</th>\n",
       "      <th>PULocationID</th>\n",
       "      <th>DOLocationID</th>\n",
       "      <th>payment_type</th>\n",
       "      <th>fare_amount</th>\n",
       "      <th>extra</th>\n",
       "      <th>mta_tax</th>\n",
       "      <th>tip_amount</th>\n",
       "      <th>tolls_amount</th>\n",
       "      <th>improvement_surcharge</th>\n",
       "      <th>total_amount</th>\n",
       "      <th>congestion_surcharge</th>\n",
       "      <th>airport_fee</th>\n",
       "      <th>travel_time</th>\n",
       "      <th>fare_permil</th>\n",
       "    </tr>\n",
       "  </thead>\n",
       "  <tbody>\n",
       "    <tr>\n",
       "      <th>count</th>\n",
       "      <td>428049.000000</td>\n",
       "      <td>428049.000000</td>\n",
       "      <td>428049.000000</td>\n",
       "      <td>428049.000000</td>\n",
       "      <td>428049.000000</td>\n",
       "      <td>428049.000000</td>\n",
       "      <td>428049.000000</td>\n",
       "      <td>428049.000000</td>\n",
       "      <td>428049.000000</td>\n",
       "      <td>428049.000000</td>\n",
       "      <td>428049.000000</td>\n",
       "      <td>428049.000000</td>\n",
       "      <td>428049.000000</td>\n",
       "      <td>428049.000000</td>\n",
       "      <td>428049.000000</td>\n",
       "      <td>428049.000000</td>\n",
       "      <td>428049.000000</td>\n",
       "      <td>428049.000000</td>\n",
       "      <td>428049.000000</td>\n",
       "    </tr>\n",
       "    <tr>\n",
       "      <th>mean</th>\n",
       "      <td>1.702364</td>\n",
       "      <td>1.456417</td>\n",
       "      <td>10.052764</td>\n",
       "      <td>1.264883</td>\n",
       "      <td>0.011552</td>\n",
       "      <td>148.399587</td>\n",
       "      <td>141.404937</td>\n",
       "      <td>1.268324</td>\n",
       "      <td>32.332483</td>\n",
       "      <td>1.076755</td>\n",
       "      <td>0.488278</td>\n",
       "      <td>5.135165</td>\n",
       "      <td>2.583810</td>\n",
       "      <td>0.299973</td>\n",
       "      <td>43.486097</td>\n",
       "      <td>1.721288</td>\n",
       "      <td>0.507091</td>\n",
       "      <td>34.038464</td>\n",
       "      <td>8.649260</td>\n",
       "    </tr>\n",
       "    <tr>\n",
       "      <th>std</th>\n",
       "      <td>0.457219</td>\n",
       "      <td>1.027981</td>\n",
       "      <td>7.467894</td>\n",
       "      <td>0.643552</td>\n",
       "      <td>0.106860</td>\n",
       "      <td>57.700230</td>\n",
       "      <td>76.745083</td>\n",
       "      <td>0.466887</td>\n",
       "      <td>18.878571</td>\n",
       "      <td>1.435308</td>\n",
       "      <td>0.075823</td>\n",
       "      <td>5.229424</td>\n",
       "      <td>3.642447</td>\n",
       "      <td>0.002863</td>\n",
       "      <td>23.946477</td>\n",
       "      <td>1.157754</td>\n",
       "      <td>0.613778</td>\n",
       "      <td>75.176587</td>\n",
       "      <td>140.143876</td>\n",
       "    </tr>\n",
       "    <tr>\n",
       "      <th>min</th>\n",
       "      <td>1.000000</td>\n",
       "      <td>0.000000</td>\n",
       "      <td>0.010000</td>\n",
       "      <td>1.000000</td>\n",
       "      <td>0.000000</td>\n",
       "      <td>1.000000</td>\n",
       "      <td>1.000000</td>\n",
       "      <td>1.000000</td>\n",
       "      <td>0.010000</td>\n",
       "      <td>0.000000</td>\n",
       "      <td>0.000000</td>\n",
       "      <td>0.000000</td>\n",
       "      <td>0.000000</td>\n",
       "      <td>0.000000</td>\n",
       "      <td>0.310000</td>\n",
       "      <td>0.000000</td>\n",
       "      <td>0.000000</td>\n",
       "      <td>0.000000</td>\n",
       "      <td>0.000000</td>\n",
       "    </tr>\n",
       "    <tr>\n",
       "      <th>25%</th>\n",
       "      <td>1.000000</td>\n",
       "      <td>1.000000</td>\n",
       "      <td>4.820000</td>\n",
       "      <td>1.000000</td>\n",
       "      <td>0.000000</td>\n",
       "      <td>132.000000</td>\n",
       "      <td>82.000000</td>\n",
       "      <td>1.000000</td>\n",
       "      <td>18.500000</td>\n",
       "      <td>0.000000</td>\n",
       "      <td>0.500000</td>\n",
       "      <td>0.000000</td>\n",
       "      <td>0.000000</td>\n",
       "      <td>0.300000</td>\n",
       "      <td>25.000000</td>\n",
       "      <td>0.000000</td>\n",
       "      <td>0.000000</td>\n",
       "      <td>17.870000</td>\n",
       "      <td>2.930000</td>\n",
       "    </tr>\n",
       "    <tr>\n",
       "      <th>50%</th>\n",
       "      <td>2.000000</td>\n",
       "      <td>1.000000</td>\n",
       "      <td>9.090000</td>\n",
       "      <td>1.000000</td>\n",
       "      <td>0.000000</td>\n",
       "      <td>138.000000</td>\n",
       "      <td>138.000000</td>\n",
       "      <td>1.000000</td>\n",
       "      <td>29.500000</td>\n",
       "      <td>0.500000</td>\n",
       "      <td>0.500000</td>\n",
       "      <td>4.390000</td>\n",
       "      <td>0.000000</td>\n",
       "      <td>0.300000</td>\n",
       "      <td>40.950000</td>\n",
       "      <td>2.500000</td>\n",
       "      <td>0.000000</td>\n",
       "      <td>27.220000</td>\n",
       "      <td>3.270000</td>\n",
       "    </tr>\n",
       "    <tr>\n",
       "      <th>75%</th>\n",
       "      <td>2.000000</td>\n",
       "      <td>2.000000</td>\n",
       "      <td>14.830000</td>\n",
       "      <td>1.000000</td>\n",
       "      <td>0.000000</td>\n",
       "      <td>164.000000</td>\n",
       "      <td>217.000000</td>\n",
       "      <td>2.000000</td>\n",
       "      <td>47.000000</td>\n",
       "      <td>1.750000</td>\n",
       "      <td>0.500000</td>\n",
       "      <td>8.400000</td>\n",
       "      <td>6.550000</td>\n",
       "      <td>0.300000</td>\n",
       "      <td>59.500000</td>\n",
       "      <td>2.500000</td>\n",
       "      <td>1.250000</td>\n",
       "      <td>39.470000</td>\n",
       "      <td>3.910000</td>\n",
       "    </tr>\n",
       "    <tr>\n",
       "      <th>max</th>\n",
       "      <td>2.000000</td>\n",
       "      <td>9.000000</td>\n",
       "      <td>791.540000</td>\n",
       "      <td>6.000000</td>\n",
       "      <td>1.000000</td>\n",
       "      <td>265.000000</td>\n",
       "      <td>265.000000</td>\n",
       "      <td>4.000000</td>\n",
       "      <td>695.000000</td>\n",
       "      <td>9.000000</td>\n",
       "      <td>3.300000</td>\n",
       "      <td>222.000000</td>\n",
       "      <td>94.660000</td>\n",
       "      <td>0.300000</td>\n",
       "      <td>695.300000</td>\n",
       "      <td>2.750000</td>\n",
       "      <td>1.250000</td>\n",
       "      <td>8510.870000</td>\n",
       "      <td>16500.000000</td>\n",
       "    </tr>\n",
       "  </tbody>\n",
       "</table>\n",
       "</div>"
      ],
      "text/plain": [
       "            VendorID  passenger_count  trip_distance     RatecodeID  \\\n",
       "count  428049.000000    428049.000000  428049.000000  428049.000000   \n",
       "mean        1.702364         1.456417      10.052764       1.264883   \n",
       "std         0.457219         1.027981       7.467894       0.643552   \n",
       "min         1.000000         0.000000       0.010000       1.000000   \n",
       "25%         1.000000         1.000000       4.820000       1.000000   \n",
       "50%         2.000000         1.000000       9.090000       1.000000   \n",
       "75%         2.000000         2.000000      14.830000       1.000000   \n",
       "max         2.000000         9.000000     791.540000       6.000000   \n",
       "\n",
       "       store_and_fwd_flag   PULocationID   DOLocationID   payment_type  \\\n",
       "count       428049.000000  428049.000000  428049.000000  428049.000000   \n",
       "mean             0.011552     148.399587     141.404937       1.268324   \n",
       "std              0.106860      57.700230      76.745083       0.466887   \n",
       "min              0.000000       1.000000       1.000000       1.000000   \n",
       "25%              0.000000     132.000000      82.000000       1.000000   \n",
       "50%              0.000000     138.000000     138.000000       1.000000   \n",
       "75%              0.000000     164.000000     217.000000       2.000000   \n",
       "max              1.000000     265.000000     265.000000       4.000000   \n",
       "\n",
       "         fare_amount          extra        mta_tax     tip_amount  \\\n",
       "count  428049.000000  428049.000000  428049.000000  428049.000000   \n",
       "mean       32.332483       1.076755       0.488278       5.135165   \n",
       "std        18.878571       1.435308       0.075823       5.229424   \n",
       "min         0.010000       0.000000       0.000000       0.000000   \n",
       "25%        18.500000       0.000000       0.500000       0.000000   \n",
       "50%        29.500000       0.500000       0.500000       4.390000   \n",
       "75%        47.000000       1.750000       0.500000       8.400000   \n",
       "max       695.000000       9.000000       3.300000     222.000000   \n",
       "\n",
       "        tolls_amount  improvement_surcharge   total_amount  \\\n",
       "count  428049.000000          428049.000000  428049.000000   \n",
       "mean        2.583810               0.299973      43.486097   \n",
       "std         3.642447               0.002863      23.946477   \n",
       "min         0.000000               0.000000       0.310000   \n",
       "25%         0.000000               0.300000      25.000000   \n",
       "50%         0.000000               0.300000      40.950000   \n",
       "75%         6.550000               0.300000      59.500000   \n",
       "max        94.660000               0.300000     695.300000   \n",
       "\n",
       "       congestion_surcharge    airport_fee    travel_time    fare_permil  \n",
       "count         428049.000000  428049.000000  428049.000000  428049.000000  \n",
       "mean               1.721288       0.507091      34.038464       8.649260  \n",
       "std                1.157754       0.613778      75.176587     140.143876  \n",
       "min                0.000000       0.000000       0.000000       0.000000  \n",
       "25%                0.000000       0.000000      17.870000       2.930000  \n",
       "50%                2.500000       0.000000      27.220000       3.270000  \n",
       "75%                2.500000       1.250000      39.470000       3.910000  \n",
       "max                2.750000       1.250000    8510.870000   16500.000000  "
      ]
     },
     "execution_count": 33,
     "metadata": {},
     "output_type": "execute_result"
    }
   ],
   "source": [
    "not_manhattan.describe()"
   ]
  },
  {
   "cell_type": "code",
   "execution_count": 34,
   "id": "8ff21a12",
   "metadata": {},
   "outputs": [
    {
     "name": "stdout",
     "output_type": "stream",
     "text": [
      "Total Transaction in Manhattan :  (2327658, 21)\n",
      "Total Transaction in Non-Manhattan :  (428049, 21)\n"
     ]
    }
   ],
   "source": [
    "print('Total Transaction in Manhattan : ', manhattan.shape)\n",
    "print('Total Transaction in Non-Manhattan : ', not_manhattan.shape)"
   ]
  },
  {
   "cell_type": "code",
   "execution_count": 35,
   "id": "7d39ab35",
   "metadata": {},
   "outputs": [
    {
     "name": "stdout",
     "output_type": "stream",
     "text": [
      "Persentase Transaction in Manhattan : 84.46198328186696\n"
     ]
    }
   ],
   "source": [
    "man_percent = (2327915/(2327915+428254))*100\n",
    "print('Persentase Transaction in Manhattan :', man_percent)"
   ]
  },
  {
   "cell_type": "code",
   "execution_count": 36,
   "id": "c7b1d9a4",
   "metadata": {},
   "outputs": [
    {
     "data": {
      "image/png": "[encoded data removed]",
      "text/plain": [
       "<Figure size 432x288 with 1 Axes>"
      ]
     },
     "metadata": {},
     "output_type": "display_data"
    }
   ],
   "source": [
    "y = np.array([man_percent, 100-man_percent])\n",
    "mylabels = [\"Manhattan\", \"Non-Manhattan\"]\n",
    "mycolors = [\"pink\",\"grey\"]\n",
    "\n",
    "plt.pie(y, labels = mylabels, autopct='%1.1f%%', colors = mycolors)\n",
    "plt.show() "
   ]
  },
  {
   "cell_type": "markdown",
   "id": "94a52149",
   "metadata": {},
   "source": [
    "Conclusion : \n",
    "\n",
    "- Jumlah transaksi di Manhattan jauh lebih tinggi dibandingkan daerah Non-Manhattan \n",
    "- 84.5% transaksi taxi terjadi di daerah Manhattan"
   ]
  },
  {
   "cell_type": "markdown",
   "id": "d6fe163d",
   "metadata": {},
   "source": [
    "### A2. Apa penyebab taxi lebih sering beroperasi di Manhattan daripada daerah lain ?"
   ]
  },
  {
   "cell_type": "markdown",
   "id": "9118d847",
   "metadata": {},
   "source": [
    "### Trip Distance"
   ]
  },
  {
   "cell_type": "code",
   "execution_count": 37,
   "id": "b3f17ba5",
   "metadata": {},
   "outputs": [],
   "source": [
    "def distance_man(x):\n",
    "    if x < 1:\n",
    "        return '0-1'\n",
    "    elif x < 2:\n",
    "        return '1-2'\n",
    "    elif x < 3:\n",
    "        return '2-3'\n",
    "    elif x < 4:\n",
    "        return '3-4'\n",
    "    elif x < 5:\n",
    "        return '4-5'\n",
    "    else:\n",
    "        return 'Above 5'\n",
    "    \n",
    "manhattan['trip_distance'] = np.vectorize(distance_man)(manhattan['trip_distance'])"
   ]
  },
  {
   "cell_type": "code",
   "execution_count": 38,
   "id": "dce3857d",
   "metadata": {},
   "outputs": [
    {
     "data": {
      "text/plain": [
       "<AxesSubplot:xlabel='count', ylabel='trip_distance'>"
      ]
     },
     "execution_count": 38,
     "metadata": {},
     "output_type": "execute_result"
    },
    {
     "data": {
      "image/png": "[encoded data removed]",
      "text/plain": [
       "<Figure size 432x288 with 1 Axes>"
      ]
     },
     "metadata": {
      "needs_background": "light"
     },
     "output_type": "display_data"
    }
   ],
   "source": [
    "sns.countplot(y=manhattan['trip_distance'], order = manhattan['trip_distance'].value_counts().index)"
   ]
  },
  {
   "cell_type": "code",
   "execution_count": 39,
   "id": "1916fbed",
   "metadata": {},
   "outputs": [],
   "source": [
    "def distance_nm(x):\n",
    "    if x < 5:\n",
    "        return '0-5'\n",
    "    elif x < 10:\n",
    "        return '5-10'\n",
    "    elif x < 15:\n",
    "        return '10-15'\n",
    "    elif x < 20:\n",
    "        return '15-20'\n",
    "    else:\n",
    "        return 'Above 20'\n",
    "    \n",
    "not_manhattan['trip_distance'] = np.vectorize(distance_nm)(not_manhattan['trip_distance'])"
   ]
  },
  {
   "cell_type": "code",
   "execution_count": 40,
   "id": "136081db",
   "metadata": {},
   "outputs": [
    {
     "data": {
      "text/plain": [
       "<AxesSubplot:xlabel='count', ylabel='trip_distance'>"
      ]
     },
     "execution_count": 40,
     "metadata": {},
     "output_type": "execute_result"
    },
    {
     "data": {
      "image/png": "[encoded data removed]",
      "text/plain": [
       "<Figure size 432x288 with 1 Axes>"
      ]
     },
     "metadata": {
      "needs_background": "light"
     },
     "output_type": "display_data"
    }
   ],
   "source": [
    "sns.countplot(y=not_manhattan['trip_distance'], order = not_manhattan['trip_distance'].value_counts().index)"
   ]
  },
  {
   "cell_type": "markdown",
   "id": "7efa3181",
   "metadata": {},
   "source": [
    "#### Conclusion :\n",
    "\n",
    "- Mayoritas jarak tempuh taxi di daerah Manhattan cukup rendah yaitu 1-2 mil, berbeda jauh dengan daerah Non-Manhattan dengan mayoritas jarak tempuh 5-10 mil"
   ]
  },
  {
   "cell_type": "markdown",
   "id": "878f7369",
   "metadata": {},
   "source": [
    "### fare_amount"
   ]
  },
  {
   "cell_type": "code",
   "execution_count": 41,
   "id": "1a7b080e",
   "metadata": {},
   "outputs": [],
   "source": [
    "def fare_man(x):\n",
    "    if x < 5:\n",
    "        return '0-5'\n",
    "    elif x < 10:\n",
    "        return '5-10'\n",
    "    elif x < 15:\n",
    "        return '10-15'\n",
    "    elif x < 20:\n",
    "        return '15-20'\n",
    "    elif x < 25:\n",
    "        return '20-25'\n",
    "    else:\n",
    "        return 'Above 25'\n",
    "    \n",
    "manhattan['fare_amount'] = np.vectorize(fare_man)(manhattan['fare_amount'])"
   ]
  },
  {
   "cell_type": "code",
   "execution_count": 42,
   "id": "d8ece319",
   "metadata": {},
   "outputs": [
    {
     "data": {
      "text/plain": [
       "<AxesSubplot:xlabel='count', ylabel='fare_amount'>"
      ]
     },
     "execution_count": 42,
     "metadata": {},
     "output_type": "execute_result"
    },
    {
     "data": {
      "image/png": "[encoded data removed]",
      "text/plain": [
       "<Figure size 432x288 with 1 Axes>"
      ]
     },
     "metadata": {
      "needs_background": "light"
     },
     "output_type": "display_data"
    }
   ],
   "source": [
    "sns.countplot(y=manhattan['fare_amount'], order = manhattan['fare_amount'].value_counts().index)"
   ]
  },
  {
   "cell_type": "code",
   "execution_count": 43,
   "id": "943a777f",
   "metadata": {},
   "outputs": [],
   "source": [
    "def fare_nm(x):\n",
    "    if x < 10:\n",
    "        return '0-10'\n",
    "    elif x < 20:\n",
    "        return '10-20'\n",
    "    elif x < 30:\n",
    "        return '20-30'\n",
    "    elif x < 40:\n",
    "        return '30-40'\n",
    "    elif x < 50:\n",
    "        return '40-50'\n",
    "    elif x < 60:\n",
    "        return '50-60'\n",
    "    else:\n",
    "        return 'Above 60'\n",
    "    \n",
    "not_manhattan['fare_amount'] = np.vectorize(fare_nm)(not_manhattan['fare_amount'])"
   ]
  },
  {
   "cell_type": "code",
   "execution_count": 44,
   "id": "8d80e614",
   "metadata": {},
   "outputs": [
    {
     "data": {
      "text/plain": [
       "<AxesSubplot:xlabel='count', ylabel='fare_amount'>"
      ]
     },
     "execution_count": 44,
     "metadata": {},
     "output_type": "execute_result"
    },
    {
     "data": {
      "image/png": "[encoded data removed]",
      "text/plain": [
       "<Figure size 432x288 with 1 Axes>"
      ]
     },
     "metadata": {
      "needs_background": "light"
     },
     "output_type": "display_data"
    }
   ],
   "source": [
    "sns.countplot(y=not_manhattan['fare_amount'], order = not_manhattan['fare_amount'].value_counts().index)"
   ]
  },
  {
   "cell_type": "markdown",
   "id": "8c250400",
   "metadata": {},
   "source": [
    "Conclusion :\n",
    "\n",
    "- Mayoritas tarif taxi di daerah Manhattan adalah 5-10 dollar, berbeda jauh dengan daerah Non-Manhattan dengan mayoritas tarif taxi 20-30 dollar"
   ]
  },
  {
   "cell_type": "markdown",
   "id": "e4a66481",
   "metadata": {},
   "source": [
    "### fare_permil"
   ]
  },
  {
   "cell_type": "code",
   "execution_count": 45,
   "id": "81a4af69",
   "metadata": {},
   "outputs": [],
   "source": [
    "def fare_man(x):\n",
    "    if x < 2:\n",
    "        return '0-2'\n",
    "    elif x < 4:\n",
    "        return '2-4'\n",
    "    elif x < 6:\n",
    "        return '4-6'\n",
    "    elif x < 8:\n",
    "        return '6-8'\n",
    "    elif x < 10:\n",
    "        return '8-10'\n",
    "    else:\n",
    "        return 'Above 10'\n",
    "    \n",
    "manhattan['fare_class'] = np.vectorize(fare_man)(manhattan['fare_permil'])"
   ]
  },
  {
   "cell_type": "code",
   "execution_count": 46,
   "id": "c85809c1",
   "metadata": {},
   "outputs": [
    {
     "data": {
      "text/plain": [
       "<AxesSubplot:xlabel='count', ylabel='fare_class'>"
      ]
     },
     "execution_count": 46,
     "metadata": {},
     "output_type": "execute_result"
    },
    {
     "data": {
      "image/png": "[encoded data removed]",
      "text/plain": [
       "<Figure size 432x288 with 1 Axes>"
      ]
     },
     "metadata": {
      "needs_background": "light"
     },
     "output_type": "display_data"
    }
   ],
   "source": [
    "sns.countplot(y=manhattan['fare_class'], order = manhattan['fare_class'].value_counts().index)"
   ]
  },
  {
   "cell_type": "code",
   "execution_count": 47,
   "id": "f5da1ba4",
   "metadata": {},
   "outputs": [],
   "source": [
    "def fare_nm(x):\n",
    "    if x < 2:\n",
    "        return '0-2'\n",
    "    elif x < 4:\n",
    "        return '2-4'\n",
    "    elif x < 6:\n",
    "        return '4-6'\n",
    "    elif x < 8:\n",
    "        return '6-8'\n",
    "    elif x < 10:\n",
    "        return '8-10'\n",
    "    else:\n",
    "        return 'Above 10'\n",
    "    \n",
    "not_manhattan['fare_class'] = np.vectorize(fare_nm)(not_manhattan['fare_permil'])"
   ]
  },
  {
   "cell_type": "code",
   "execution_count": 48,
   "id": "4955add6",
   "metadata": {},
   "outputs": [
    {
     "data": {
      "text/plain": [
       "<AxesSubplot:xlabel='count', ylabel='fare_class'>"
      ]
     },
     "execution_count": 48,
     "metadata": {},
     "output_type": "execute_result"
    },
    {
     "data": {
      "image/png": "[encoded data removed]",
      "text/plain": [
       "<Figure size 432x288 with 1 Axes>"
      ]
     },
     "metadata": {
      "needs_background": "light"
     },
     "output_type": "display_data"
    }
   ],
   "source": [
    "sns.countplot(y=not_manhattan['fare_class'], order = not_manhattan['fare_class'].value_counts().index)"
   ]
  },
  {
   "cell_type": "markdown",
   "id": "97c78c13",
   "metadata": {},
   "source": [
    "Conclusion :\n",
    "\n",
    "- Tarif taxi per mil di Manhatan (5 dollar) lebih tinggi dibandingkan dengan Non-Manhattan (3 Dollar)"
   ]
  },
  {
   "cell_type": "markdown",
   "id": "3a47500d",
   "metadata": {},
   "source": [
    "### Tip Amount"
   ]
  },
  {
   "cell_type": "code",
   "execution_count": 49,
   "id": "9707a56f",
   "metadata": {},
   "outputs": [],
   "source": [
    "def tip_man(x):\n",
    "    if x <= 0:\n",
    "        return 'No'\n",
    "    else:\n",
    "        return 'Yes'\n",
    "    \n",
    "manhattan['tip'] = np.vectorize(tip_man)(manhattan['tip_amount'])"
   ]
  },
  {
   "cell_type": "code",
   "execution_count": 50,
   "id": "6accaaf8",
   "metadata": {},
   "outputs": [
    {
     "data": {
      "text/plain": [
       "<AxesSubplot:xlabel='tip', ylabel='count'>"
      ]
     },
     "execution_count": 50,
     "metadata": {},
     "output_type": "execute_result"
    },
    {
     "data": {
      "image/png": "[encoded data removed]",
      "text/plain": [
       "<Figure size 432x288 with 1 Axes>"
      ]
     },
     "metadata": {
      "needs_background": "light"
     },
     "output_type": "display_data"
    }
   ],
   "source": [
    "sns.countplot(x=manhattan['tip'])"
   ]
  },
  {
   "cell_type": "code",
   "execution_count": 51,
   "id": "daebbb82",
   "metadata": {},
   "outputs": [
    {
     "name": "stdout",
     "output_type": "stream",
     "text": [
      "Persentase dapat tip di Manhattan : 76.00949108503053\n"
     ]
    }
   ],
   "source": [
    "a = 100 - (manhattan['tip_amount'].value_counts()[0] / manhattan['tip_amount'].shape[0])*100\n",
    "print ('Persentase dapat tip di Manhattan :', a)"
   ]
  },
  {
   "cell_type": "code",
   "execution_count": 52,
   "id": "7e50d3ad",
   "metadata": {},
   "outputs": [],
   "source": [
    "def tip_nm(x):\n",
    "    if x <= 0:\n",
    "        return 'No'\n",
    "    else:\n",
    "        return 'Yes'\n",
    "    \n",
    "not_manhattan['tip'] = np.vectorize(tip_nm)(not_manhattan['tip_amount'])"
   ]
  },
  {
   "cell_type": "code",
   "execution_count": 53,
   "id": "3cc96460",
   "metadata": {},
   "outputs": [
    {
     "data": {
      "text/plain": [
       "<AxesSubplot:xlabel='tip', ylabel='count'>"
      ]
     },
     "execution_count": 53,
     "metadata": {},
     "output_type": "execute_result"
    },
    {
     "data": {
      "image/png": "[encoded data removed]",
      "text/plain": [
       "<Figure size 432x288 with 1 Axes>"
      ]
     },
     "metadata": {
      "needs_background": "light"
     },
     "output_type": "display_data"
    }
   ],
   "source": [
    "sns.countplot(x=not_manhattan['tip'])"
   ]
  },
  {
   "cell_type": "code",
   "execution_count": 54,
   "id": "9a6cb746",
   "metadata": {},
   "outputs": [
    {
     "name": "stdout",
     "output_type": "stream",
     "text": [
      "Persentase dapat tip di Non-Manhattan : 69.43247151611146\n"
     ]
    }
   ],
   "source": [
    "a = 100 - (not_manhattan['tip_amount'].value_counts()[0] / not_manhattan['tip_amount'].shape[0])*100\n",
    "print ('Persentase dapat tip di Non-Manhattan :', a)"
   ]
  },
  {
   "cell_type": "markdown",
   "id": "33c4a483",
   "metadata": {},
   "source": [
    "Conclusion :\n",
    "\n",
    "- Persentase dalam mendapatkan tip dari pelanggan di Daerah Manhattan lebih tinggi (selisih 6,5%)"
   ]
  },
  {
   "cell_type": "markdown",
   "id": "0a1b99ed",
   "metadata": {},
   "source": [
    "### Travel time"
   ]
  },
  {
   "cell_type": "code",
   "execution_count": 55,
   "id": "5e25a367",
   "metadata": {},
   "outputs": [],
   "source": [
    "def minutes_man(x):\n",
    "    if x < 5:\n",
    "        return '0-5'\n",
    "    elif x < 10:\n",
    "        return '5-10'\n",
    "    elif x < 15:\n",
    "        return '10-15'\n",
    "    elif x < 20:\n",
    "        return '15-20'\n",
    "    elif x < 25:\n",
    "        return '20-25'\n",
    "    else:\n",
    "        return 'Above 25'\n",
    "    \n",
    "manhattan['minute_class'] = np.vectorize(minutes_man)(manhattan['travel_time'])"
   ]
  },
  {
   "cell_type": "code",
   "execution_count": 56,
   "id": "17d0f7c2",
   "metadata": {},
   "outputs": [
    {
     "data": {
      "text/plain": [
       "<AxesSubplot:xlabel='count', ylabel='minute_class'>"
      ]
     },
     "execution_count": 56,
     "metadata": {},
     "output_type": "execute_result"
    },
    {
     "data": {
      "image/png": "[encoded data removed]",
      "text/plain": [
       "<Figure size 432x288 with 1 Axes>"
      ]
     },
     "metadata": {
      "needs_background": "light"
     },
     "output_type": "display_data"
    }
   ],
   "source": [
    "sns.countplot(y=manhattan['minute_class'], order = manhattan['minute_class'].value_counts().index)"
   ]
  },
  {
   "cell_type": "code",
   "execution_count": 57,
   "id": "93cb785c",
   "metadata": {},
   "outputs": [],
   "source": [
    "def minutes_nm(x):\n",
    "    if x < 10:\n",
    "        return '0-10'\n",
    "    elif x < 20:\n",
    "        return '10-20'\n",
    "    elif x < 30:\n",
    "        return '20-30'\n",
    "    elif x < 40:\n",
    "        return '30-40'\n",
    "    elif x < 50:\n",
    "        return '40-50'\n",
    "    elif x < 60:\n",
    "        return '50-60'\n",
    "    else:\n",
    "        return 'Above 60'\n",
    "    \n",
    "not_manhattan['minute_class'] = np.vectorize(minutes_nm)(not_manhattan['travel_time'])"
   ]
  },
  {
   "cell_type": "code",
   "execution_count": 58,
   "id": "d7821ac2",
   "metadata": {},
   "outputs": [
    {
     "data": {
      "text/plain": [
       "<AxesSubplot:xlabel='count', ylabel='minute_class'>"
      ]
     },
     "execution_count": 58,
     "metadata": {},
     "output_type": "execute_result"
    },
    {
     "data": {
      "image/png": "[encoded data removed]",
      "text/plain": [
       "<Figure size 432x288 with 1 Axes>"
      ]
     },
     "metadata": {
      "needs_background": "light"
     },
     "output_type": "display_data"
    }
   ],
   "source": [
    "sns.countplot(y=not_manhattan['minute_class'], order = not_manhattan['minute_class'].value_counts().index)"
   ]
  },
  {
   "cell_type": "markdown",
   "id": "1c854d1b",
   "metadata": {},
   "source": [
    "Conclusion :\n",
    "- Mayoritas lama perjalanan di Manhattan hanya 5-10 menit, sedangkan di Non-Manhattan 20-30 menit "
   ]
  },
  {
   "cell_type": "markdown",
   "id": "64825d4f",
   "metadata": {},
   "source": [
    "### Answer :\n",
    "\n",
    "Dari analisa yang telah saya lakukan, saya dapat memberikan beberapa alasan mengapa layana Yellow Taxi hanya berpusat pada boroughs tertentu. Dalam analisa saya layanan Taxi hanya berpusat pada daerah Manhattan, dengan persentase transaksi sebesar 84.5% dari total transaksi, alasanya :\n",
    "- Mayoritas Jarak tempuh tiap transaksi di daerah Manhattan (1-2 mil) jauh lebih dekat jika dibandingkan dengan daerah Non-Manhattan (5-10 mil)\n",
    "- Walaupun mayoritas tarif taxi di daerah Manhattan lebih kecil daripada daerah Non-Manhattan, namun jika dihitung dengan tarif per mil nya, daerah Manhattan (5 dollar / mil) memiliki tarif per mil yang lebih tinggi daripada daerah Non-Manhattan (3 dollar / mil)\n",
    "- Mayoritas waktu tempuh tiap transaksi di Manhattan (5-10 menit) lebih singkat daripada daerah Non-Manhattan (20-30 menit), maka dalam sehari driver yang beroperasi di Manhattan akan lebih banyak mendapatkan orderan\n",
    "- Daerah Manhattan memiliki persentase kemungkinan mendapatakan tip yang lebih tinggi, dengan selisih 6,5%. Walaupun selisihnya kecil, namun karena jarak perjalannya relatif dekat dengan waktu yang lebih singkat, maka driver akan lebih sering melakukan transaksi dan mendapatkan tips lebih banyak"
   ]
  },
  {
   "cell_type": "code",
   "execution_count": null,
   "id": "48a68dca",
   "metadata": {},
   "outputs": [],
   "source": []
  },
  {
   "cell_type": "code",
   "execution_count": null,
   "id": "3dc8e975",
   "metadata": {},
   "outputs": [],
   "source": []
  },
  {
   "cell_type": "markdown",
   "id": "673594cc",
   "metadata": {},
   "source": [
    "### B. TLC ingin agar layanan yellow taxi mereka tersebar secara merata di seluruh kota New York sehingga dapat menjawab demand yang ada. Apa yang harus TLC lakukan secara short-term (6 bulan) untuk mengatasi tantangan ini?"
   ]
  },
  {
   "cell_type": "markdown",
   "id": "c1ac168f",
   "metadata": {},
   "source": [
    "Bagaimana cara agar driver mau beroperasi di luar daerah Manhattan ?"
   ]
  },
  {
   "cell_type": "markdown",
   "id": "869043c5",
   "metadata": {},
   "source": [
    "## airport_fee"
   ]
  },
  {
   "cell_type": "code",
   "execution_count": 59,
   "id": "3b8a04cf",
   "metadata": {},
   "outputs": [
    {
     "data": {
      "text/plain": [
       "<AxesSubplot:xlabel='airport_fee', ylabel='count'>"
      ]
     },
     "execution_count": 59,
     "metadata": {},
     "output_type": "execute_result"
    },
    {
     "data": {
      "image/png": "[encoded data removed]",
      "text/plain": [
       "<Figure size 432x288 with 1 Axes>"
      ]
     },
     "metadata": {
      "needs_background": "light"
     },
     "output_type": "display_data"
    }
   ],
   "source": [
    "sns.countplot(x=manhattan['airport_fee'], order = manhattan['airport_fee'].value_counts().index)"
   ]
  },
  {
   "cell_type": "code",
   "execution_count": 60,
   "id": "a9dca7cd",
   "metadata": {},
   "outputs": [
    {
     "name": "stdout",
     "output_type": "stream",
     "text": [
      "Persentase perjalanan bandara di Non-Manhattan : 0.012415913334351103\n"
     ]
    }
   ],
   "source": [
    "a = 100 - (manhattan['airport_fee'].value_counts()[0] / manhattan['airport_fee'].shape[0])*100\n",
    "print ('Persentase perjalanan bandara di Non-Manhattan :', a)"
   ]
  },
  {
   "cell_type": "code",
   "execution_count": 61,
   "id": "7724c223",
   "metadata": {},
   "outputs": [
    {
     "data": {
      "text/plain": [
       "<AxesSubplot:xlabel='airport_fee', ylabel='count'>"
      ]
     },
     "execution_count": 61,
     "metadata": {},
     "output_type": "execute_result"
    },
    {
     "data": {
      "image/png": "[encoded data removed]",
      "text/plain": [
       "<Figure size 432x288 with 1 Axes>"
      ]
     },
     "metadata": {
      "needs_background": "light"
     },
     "output_type": "display_data"
    }
   ],
   "source": [
    "sns.countplot(x=not_manhattan['airport_fee'], order = not_manhattan['airport_fee'].value_counts().index)"
   ]
  },
  {
   "cell_type": "code",
   "execution_count": 62,
   "id": "cd0e90f8",
   "metadata": {},
   "outputs": [
    {
     "name": "stdout",
     "output_type": "stream",
     "text": [
      "Persentase perjalanan bandara di Non-Manhattan : 40.56731822758609\n"
     ]
    }
   ],
   "source": [
    "a = 100 - (not_manhattan['airport_fee'].value_counts()[0] / not_manhattan['airport_fee'].shape[0])*100\n",
    "print ('Persentase perjalanan bandara di Non-Manhattan :', a)"
   ]
  },
  {
   "cell_type": "markdown",
   "id": "c12e71c0",
   "metadata": {},
   "source": [
    "Conclusion :\n",
    "\n",
    "- Transaksi penjemputan di Bandara lebih sering terjadi pada daerah Non-Manhattan, dengan selisih kemungkinan 40% lebih banyak "
   ]
  },
  {
   "cell_type": "markdown",
   "id": "96b6197f",
   "metadata": {},
   "source": [
    "## congestion_surcharge"
   ]
  },
  {
   "cell_type": "code",
   "execution_count": 63,
   "id": "53dcc03a",
   "metadata": {},
   "outputs": [
    {
     "data": {
      "text/plain": [
       "<AxesSubplot:xlabel='congestion_surcharge', ylabel='count'>"
      ]
     },
     "execution_count": 63,
     "metadata": {},
     "output_type": "execute_result"
    },
    {
     "data": {
      "image/png": "[encoded data removed]",
      "text/plain": [
       "<Figure size 432x288 with 1 Axes>"
      ]
     },
     "metadata": {
      "needs_background": "light"
     },
     "output_type": "display_data"
    }
   ],
   "source": [
    "sns.countplot(x=manhattan['congestion_surcharge'], order = manhattan['congestion_surcharge'].value_counts().index)"
   ]
  },
  {
   "cell_type": "code",
   "execution_count": 64,
   "id": "3e785b4c",
   "metadata": {},
   "outputs": [
    {
     "name": "stdout",
     "output_type": "stream",
     "text": [
      "Persentase Kemungkinan Macet di Manhattan : 97.64514374534403\n"
     ]
    }
   ],
   "source": [
    "a = (manhattan['congestion_surcharge'].value_counts()[2.5] / manhattan['tip_amount'].shape[0])*100\n",
    "print ('Persentase Kemungkinan Macet di Manhattan :', a)"
   ]
  },
  {
   "cell_type": "code",
   "execution_count": 65,
   "id": "d6dbd82e",
   "metadata": {
    "scrolled": true
   },
   "outputs": [
    {
     "data": {
      "text/plain": [
       "<AxesSubplot:xlabel='congestion_surcharge', ylabel='count'>"
      ]
     },
     "execution_count": 65,
     "metadata": {},
     "output_type": "execute_result"
    },
    {
     "data": {
      "image/png": "[encoded data removed]",
      "text/plain": [
       "<Figure size 432x288 with 1 Axes>"
      ]
     },
     "metadata": {
      "needs_background": "light"
     },
     "output_type": "display_data"
    }
   ],
   "source": [
    "sns.countplot(x=not_manhattan['congestion_surcharge'], order = not_manhattan['congestion_surcharge'].value_counts().index)"
   ]
  },
  {
   "cell_type": "code",
   "execution_count": 66,
   "id": "5f9b4228",
   "metadata": {},
   "outputs": [
    {
     "name": "stdout",
     "output_type": "stream",
     "text": [
      "Persentase Kemungkinan Macet di Non-Manhattan : 68.85099603082824\n"
     ]
    }
   ],
   "source": [
    "a = (not_manhattan['congestion_surcharge'].value_counts()[2.5] / not_manhattan['tip_amount'].shape[0])*100\n",
    "print ('Persentase Kemungkinan Macet di Non-Manhattan :', a)"
   ]
  },
  {
   "cell_type": "markdown",
   "id": "f045e871",
   "metadata": {},
   "source": [
    "Conclusion :\n",
    "\n",
    "- Persentase kemungkinan macet di daerah Manhattan sangat tinggi (97%), jika dibandingkan dengan daerah Non-Manhattan (68%)"
   ]
  },
  {
   "cell_type": "markdown",
   "id": "3734f36c",
   "metadata": {},
   "source": [
    "### Answer :\n",
    "\n",
    "Solusi jangka pendek yang dapat TLC lakukan untuk meratakan transaksi taxi di New York antara lain :\n",
    "- Mayoritas jarak perjalanan di daerah Non-Manhattan jauh, maka dapat membuat pull di beberapa titik, agar driver dapat istirahat\n",
    "- Daerah Manhattan sering macet (97%), maka dapat memotong sebagian kecil biaya tambahan kemacetan pada driver Manhattan untuk dialokasikan menjadi bonus pada driver Non-Manhattan\n",
    "- Perjalanan Bandara lebih sering dilakukan di daerah Non-Manhattan (46%), maka TLC dapat memberikan bonus pada driver yang melakukan perjalanan bandara (dari biaya potongan macet Manhattan\n",
    "- Karena di daerah Manhattan sering macet, maka pihak TLC dapat memberikan sosialisasi mengenai besar kemungkinan driver akan terkena macet jika beroperasi di Manhattan\n"
   ]
  },
  {
   "cell_type": "code",
   "execution_count": null,
   "id": "694c7ea3",
   "metadata": {},
   "outputs": [],
   "source": []
  },
  {
   "cell_type": "code",
   "execution_count": null,
   "id": "564e17a6",
   "metadata": {},
   "outputs": [],
   "source": []
  },
  {
   "cell_type": "markdown",
   "id": "c133cd4c",
   "metadata": {},
   "source": [
    "# Data Preprocessing"
   ]
  },
  {
   "cell_type": "markdown",
   "id": "597ce7b9",
   "metadata": {},
   "source": [
    "## 8. Spliting Data Train dan Test"
   ]
  },
  {
   "cell_type": "code",
   "execution_count": 67,
   "id": "958ce477",
   "metadata": {},
   "outputs": [],
   "source": [
    "# Splitting data train and testing (75%,25%)\n",
    "\n",
    "X = taxi_mod.drop('total_amount',axis=1).copy()\n",
    "y = taxi_mod['total_amount'].copy()\n",
    "\n",
    "X_train,X_test,y_train,y_test = train_test_split(X,y,test_size = 0.25, random_state=42)"
   ]
  },
  {
   "cell_type": "code",
   "execution_count": 68,
   "id": "a5ae0d48",
   "metadata": {},
   "outputs": [],
   "source": [
    "# Insert target variabel pada X_train untuk memudahkan EDA\n",
    "X_train['total_amount'] = y_train"
   ]
  },
  {
   "cell_type": "markdown",
   "id": "c29e108e",
   "metadata": {},
   "source": [
    "## 9 . Feature Selection"
   ]
  },
  {
   "cell_type": "markdown",
   "id": "7cc436b8",
   "metadata": {},
   "source": [
    "Pilih feature yang berkorelasi tinggi dengan target variabel (source : 6. Multivariate Analysis)"
   ]
  },
  {
   "cell_type": "code",
   "execution_count": 69,
   "id": "9f82515f",
   "metadata": {},
   "outputs": [
    {
     "data": {
      "text/html": [
       "<div>\n",
       "<style scoped>\n",
       "    .dataframe tbody tr th:only-of-type {\n",
       "        vertical-align: middle;\n",
       "    }\n",
       "\n",
       "    .dataframe tbody tr th {\n",
       "        vertical-align: top;\n",
       "    }\n",
       "\n",
       "    .dataframe thead th {\n",
       "        text-align: right;\n",
       "    }\n",
       "</style>\n",
       "<table border=\"1\" class=\"dataframe\">\n",
       "  <thead>\n",
       "    <tr style=\"text-align: right;\">\n",
       "      <th></th>\n",
       "      <th>trip_distance</th>\n",
       "      <th>tolls_amount</th>\n",
       "      <th>tip_amount</th>\n",
       "      <th>RatecodeID</th>\n",
       "      <th>airport_fee</th>\n",
       "      <th>mta_tax</th>\n",
       "      <th>congestion_surcharge</th>\n",
       "    </tr>\n",
       "  </thead>\n",
       "  <tbody>\n",
       "    <tr>\n",
       "      <th>2098827</th>\n",
       "      <td>1.92</td>\n",
       "      <td>0.00</td>\n",
       "      <td>3.54</td>\n",
       "      <td>1.0</td>\n",
       "      <td>0.00</td>\n",
       "      <td>0.5</td>\n",
       "      <td>2.5</td>\n",
       "    </tr>\n",
       "    <tr>\n",
       "      <th>1153956</th>\n",
       "      <td>18.69</td>\n",
       "      <td>6.55</td>\n",
       "      <td>0.00</td>\n",
       "      <td>2.0</td>\n",
       "      <td>1.25</td>\n",
       "      <td>0.5</td>\n",
       "      <td>0.0</td>\n",
       "    </tr>\n",
       "    <tr>\n",
       "      <th>659660</th>\n",
       "      <td>10.12</td>\n",
       "      <td>6.55</td>\n",
       "      <td>8.77</td>\n",
       "      <td>1.0</td>\n",
       "      <td>0.00</td>\n",
       "      <td>0.5</td>\n",
       "      <td>2.5</td>\n",
       "    </tr>\n",
       "    <tr>\n",
       "      <th>848062</th>\n",
       "      <td>4.90</td>\n",
       "      <td>0.00</td>\n",
       "      <td>5.55</td>\n",
       "      <td>1.0</td>\n",
       "      <td>0.00</td>\n",
       "      <td>0.5</td>\n",
       "      <td>2.5</td>\n",
       "    </tr>\n",
       "    <tr>\n",
       "      <th>1220394</th>\n",
       "      <td>2.74</td>\n",
       "      <td>0.00</td>\n",
       "      <td>2.00</td>\n",
       "      <td>1.0</td>\n",
       "      <td>0.00</td>\n",
       "      <td>0.5</td>\n",
       "      <td>2.5</td>\n",
       "    </tr>\n",
       "  </tbody>\n",
       "</table>\n",
       "</div>"
      ],
      "text/plain": [
       "         trip_distance  tolls_amount  tip_amount  RatecodeID  airport_fee  \\\n",
       "2098827           1.92          0.00        3.54         1.0         0.00   \n",
       "1153956          18.69          6.55        0.00         2.0         1.25   \n",
       "659660           10.12          6.55        8.77         1.0         0.00   \n",
       "848062            4.90          0.00        5.55         1.0         0.00   \n",
       "1220394           2.74          0.00        2.00         1.0         0.00   \n",
       "\n",
       "         mta_tax  congestion_surcharge  \n",
       "2098827      0.5                   2.5  \n",
       "1153956      0.5                   0.0  \n",
       "659660       0.5                   2.5  \n",
       "848062       0.5                   2.5  \n",
       "1220394      0.5                   2.5  "
      ]
     },
     "execution_count": 69,
     "metadata": {},
     "output_type": "execute_result"
    }
   ],
   "source": [
    "X_train_top = X_train[['trip_distance','tolls_amount','tip_amount','RatecodeID','airport_fee','mta_tax','congestion_surcharge']]\n",
    "X_train_top.head()"
   ]
  },
  {
   "cell_type": "code",
   "execution_count": 70,
   "id": "1bce63b1",
   "metadata": {},
   "outputs": [
    {
     "data": {
      "text/html": [
       "<div>\n",
       "<style scoped>\n",
       "    .dataframe tbody tr th:only-of-type {\n",
       "        vertical-align: middle;\n",
       "    }\n",
       "\n",
       "    .dataframe tbody tr th {\n",
       "        vertical-align: top;\n",
       "    }\n",
       "\n",
       "    .dataframe thead th {\n",
       "        text-align: right;\n",
       "    }\n",
       "</style>\n",
       "<table border=\"1\" class=\"dataframe\">\n",
       "  <thead>\n",
       "    <tr style=\"text-align: right;\">\n",
       "      <th></th>\n",
       "      <th>trip_distance</th>\n",
       "      <th>tolls_amount</th>\n",
       "      <th>tip_amount</th>\n",
       "      <th>RatecodeID</th>\n",
       "      <th>airport_fee</th>\n",
       "      <th>mta_tax</th>\n",
       "      <th>congestion_surcharge</th>\n",
       "    </tr>\n",
       "  </thead>\n",
       "  <tbody>\n",
       "    <tr>\n",
       "      <th>2639205</th>\n",
       "      <td>1.60</td>\n",
       "      <td>0.00</td>\n",
       "      <td>2.75</td>\n",
       "      <td>1.0</td>\n",
       "      <td>0.0</td>\n",
       "      <td>0.5</td>\n",
       "      <td>2.5</td>\n",
       "    </tr>\n",
       "    <tr>\n",
       "      <th>2453145</th>\n",
       "      <td>10.35</td>\n",
       "      <td>6.55</td>\n",
       "      <td>0.00</td>\n",
       "      <td>1.0</td>\n",
       "      <td>0.0</td>\n",
       "      <td>0.5</td>\n",
       "      <td>2.5</td>\n",
       "    </tr>\n",
       "    <tr>\n",
       "      <th>2459033</th>\n",
       "      <td>1.00</td>\n",
       "      <td>0.00</td>\n",
       "      <td>2.55</td>\n",
       "      <td>1.0</td>\n",
       "      <td>0.0</td>\n",
       "      <td>0.5</td>\n",
       "      <td>2.5</td>\n",
       "    </tr>\n",
       "    <tr>\n",
       "      <th>2519586</th>\n",
       "      <td>8.34</td>\n",
       "      <td>0.00</td>\n",
       "      <td>5.00</td>\n",
       "      <td>1.0</td>\n",
       "      <td>0.0</td>\n",
       "      <td>0.5</td>\n",
       "      <td>2.5</td>\n",
       "    </tr>\n",
       "    <tr>\n",
       "      <th>814096</th>\n",
       "      <td>0.60</td>\n",
       "      <td>0.00</td>\n",
       "      <td>1.00</td>\n",
       "      <td>1.0</td>\n",
       "      <td>0.0</td>\n",
       "      <td>0.5</td>\n",
       "      <td>2.5</td>\n",
       "    </tr>\n",
       "  </tbody>\n",
       "</table>\n",
       "</div>"
      ],
      "text/plain": [
       "         trip_distance  tolls_amount  tip_amount  RatecodeID  airport_fee  \\\n",
       "2639205           1.60          0.00        2.75         1.0          0.0   \n",
       "2453145          10.35          6.55        0.00         1.0          0.0   \n",
       "2459033           1.00          0.00        2.55         1.0          0.0   \n",
       "2519586           8.34          0.00        5.00         1.0          0.0   \n",
       "814096            0.60          0.00        1.00         1.0          0.0   \n",
       "\n",
       "         mta_tax  congestion_surcharge  \n",
       "2639205      0.5                   2.5  \n",
       "2453145      0.5                   2.5  \n",
       "2459033      0.5                   2.5  \n",
       "2519586      0.5                   2.5  \n",
       "814096       0.5                   2.5  "
      ]
     },
     "execution_count": 70,
     "metadata": {},
     "output_type": "execute_result"
    }
   ],
   "source": [
    "X_test_top = X_test.copy()\n",
    "X_test_top = X_test_top[X_train_top.columns]\n",
    "X_test_top.head()"
   ]
  },
  {
   "cell_type": "markdown",
   "id": "9420539f",
   "metadata": {},
   "source": [
    "## 10. Multicollinearity Check"
   ]
  },
  {
   "cell_type": "code",
   "execution_count": 71,
   "id": "9a9e3558",
   "metadata": {},
   "outputs": [
    {
     "data": {
      "text/html": [
       "<div>\n",
       "<style scoped>\n",
       "    .dataframe tbody tr th:only-of-type {\n",
       "        vertical-align: middle;\n",
       "    }\n",
       "\n",
       "    .dataframe tbody tr th {\n",
       "        vertical-align: top;\n",
       "    }\n",
       "\n",
       "    .dataframe thead th {\n",
       "        text-align: right;\n",
       "    }\n",
       "</style>\n",
       "<table border=\"1\" class=\"dataframe\">\n",
       "  <thead>\n",
       "    <tr style=\"text-align: right;\">\n",
       "      <th></th>\n",
       "      <th>feature</th>\n",
       "      <th>vif_score</th>\n",
       "    </tr>\n",
       "  </thead>\n",
       "  <tbody>\n",
       "    <tr>\n",
       "      <th>1</th>\n",
       "      <td>trip_distance</td>\n",
       "      <td>2.249163</td>\n",
       "    </tr>\n",
       "    <tr>\n",
       "      <th>2</th>\n",
       "      <td>tolls_amount</td>\n",
       "      <td>1.793621</td>\n",
       "    </tr>\n",
       "    <tr>\n",
       "      <th>3</th>\n",
       "      <td>tip_amount</td>\n",
       "      <td>1.421345</td>\n",
       "    </tr>\n",
       "    <tr>\n",
       "      <th>4</th>\n",
       "      <td>RatecodeID</td>\n",
       "      <td>1.947575</td>\n",
       "    </tr>\n",
       "    <tr>\n",
       "      <th>5</th>\n",
       "      <td>airport_fee</td>\n",
       "      <td>1.913657</td>\n",
       "    </tr>\n",
       "    <tr>\n",
       "      <th>6</th>\n",
       "      <td>mta_tax</td>\n",
       "      <td>1.653529</td>\n",
       "    </tr>\n",
       "    <tr>\n",
       "      <th>7</th>\n",
       "      <td>congestion_surcharge</td>\n",
       "      <td>1.341592</td>\n",
       "    </tr>\n",
       "  </tbody>\n",
       "</table>\n",
       "</div>"
      ],
      "text/plain": [
       "                feature  vif_score\n",
       "1         trip_distance   2.249163\n",
       "2          tolls_amount   1.793621\n",
       "3            tip_amount   1.421345\n",
       "4            RatecodeID   1.947575\n",
       "5           airport_fee   1.913657\n",
       "6               mta_tax   1.653529\n",
       "7  congestion_surcharge   1.341592"
      ]
     },
     "execution_count": 71,
     "metadata": {},
     "output_type": "execute_result"
    }
   ],
   "source": [
    "# Hitung VIF Score\n",
    "X = add_constant(X_train_top)\n",
    "\n",
    "vif = pd.DataFrame([vif(X.values, i) \n",
    "               for i in range(X.shape[1])], \n",
    "              index=X.columns).reset_index()\n",
    "vif.columns = ['feature','vif_score']\n",
    "vif = vif.loc[vif.feature!='const']\n",
    "vif"
   ]
  },
  {
   "cell_type": "markdown",
   "id": "3123583d",
   "metadata": {},
   "source": [
    "Konklusi :\n",
    "\n",
    "Tidak terdapat features yang memiliki VIF score tinggi (>4), maka dapat melanjutkan modeling"
   ]
  },
  {
   "cell_type": "markdown",
   "id": "89df97f5",
   "metadata": {},
   "source": [
    "## 11. Feature Scaling"
   ]
  },
  {
   "cell_type": "code",
   "execution_count": 72,
   "id": "4ab1131a",
   "metadata": {},
   "outputs": [],
   "source": [
    "scaler = StandardScaler()"
   ]
  },
  {
   "cell_type": "code",
   "execution_count": 73,
   "id": "4cc490bb",
   "metadata": {},
   "outputs": [],
   "source": [
    "feature_scaling = ['trip_distance','tolls_amount','tip_amount','RatecodeID','mta_tax','congestion_surcharge']"
   ]
  },
  {
   "cell_type": "code",
   "execution_count": 74,
   "id": "2b87fca5",
   "metadata": {},
   "outputs": [],
   "source": [
    "## Scaling Train data\n",
    "X_train_top[feature_scaling] = scaler.fit_transform(X_train_top[feature_scaling])"
   ]
  },
  {
   "cell_type": "code",
   "execution_count": 75,
   "id": "fe277df8",
   "metadata": {},
   "outputs": [],
   "source": [
    "## Scaling Test data\n",
    "X_test_top[feature_scaling] = scaler.fit_transform(X_test_top[feature_scaling])"
   ]
  },
  {
   "cell_type": "markdown",
   "id": "44ee2081",
   "metadata": {},
   "source": [
    "# Modeling Data"
   ]
  },
  {
   "cell_type": "markdown",
   "id": "387c8d88",
   "metadata": {},
   "source": [
    "## 12. Baseline Model - Normal Regression\n",
    "\n",
    "### a. Training Model"
   ]
  },
  {
   "cell_type": "code",
   "execution_count": 76,
   "id": "d9859469",
   "metadata": {},
   "outputs": [
    {
     "data": {
      "text/plain": [
       "LinearRegression()"
      ]
     },
     "execution_count": 76,
     "metadata": {},
     "output_type": "execute_result"
    }
   ],
   "source": [
    "# define the model\n",
    "multi_reg = LinearRegression()\n",
    "\n",
    "# train the model\n",
    "X_train_taxi = X_train_top.to_numpy()\n",
    "y_train_taxi = y_train.to_numpy()\n",
    "y_train_taxi = y_train_taxi.reshape(len(y_train_taxi,))\n",
    "\n",
    "multi_reg.fit(X_train_taxi, y_train_taxi)"
   ]
  },
  {
   "cell_type": "code",
   "execution_count": 77,
   "id": "25e68d33",
   "metadata": {},
   "outputs": [
    {
     "data": {
      "text/html": [
       "<div>\n",
       "<style scoped>\n",
       "    .dataframe tbody tr th:only-of-type {\n",
       "        vertical-align: middle;\n",
       "    }\n",
       "\n",
       "    .dataframe tbody tr th {\n",
       "        vertical-align: top;\n",
       "    }\n",
       "\n",
       "    .dataframe thead th {\n",
       "        text-align: right;\n",
       "    }\n",
       "</style>\n",
       "<table border=\"1\" class=\"dataframe\">\n",
       "  <thead>\n",
       "    <tr style=\"text-align: right;\">\n",
       "      <th></th>\n",
       "      <th>feature</th>\n",
       "      <th>coefficient</th>\n",
       "    </tr>\n",
       "  </thead>\n",
       "  <tbody>\n",
       "    <tr>\n",
       "      <th>0</th>\n",
       "      <td>intercept</td>\n",
       "      <td>19.810646</td>\n",
       "    </tr>\n",
       "    <tr>\n",
       "      <th>1</th>\n",
       "      <td>trip_distance</td>\n",
       "      <td>7.651256</td>\n",
       "    </tr>\n",
       "    <tr>\n",
       "      <th>2</th>\n",
       "      <td>tolls_amount</td>\n",
       "      <td>2.545681</td>\n",
       "    </tr>\n",
       "    <tr>\n",
       "      <th>3</th>\n",
       "      <td>tip_amount</td>\n",
       "      <td>4.273190</td>\n",
       "    </tr>\n",
       "    <tr>\n",
       "      <th>4</th>\n",
       "      <td>RatecodeID</td>\n",
       "      <td>2.229513</td>\n",
       "    </tr>\n",
       "    <tr>\n",
       "      <th>5</th>\n",
       "      <td>airport_fee</td>\n",
       "      <td>2.906499</td>\n",
       "    </tr>\n",
       "    <tr>\n",
       "      <th>6</th>\n",
       "      <td>mta_tax</td>\n",
       "      <td>-0.259346</td>\n",
       "    </tr>\n",
       "    <tr>\n",
       "      <th>7</th>\n",
       "      <td>congestion_surcharge</td>\n",
       "      <td>0.065350</td>\n",
       "    </tr>\n",
       "  </tbody>\n",
       "</table>\n",
       "</div>"
      ],
      "text/plain": [
       "                feature  coefficient\n",
       "0             intercept    19.810646\n",
       "1         trip_distance     7.651256\n",
       "2          tolls_amount     2.545681\n",
       "3            tip_amount     4.273190\n",
       "4            RatecodeID     2.229513\n",
       "5           airport_fee     2.906499\n",
       "6               mta_tax    -0.259346\n",
       "7  congestion_surcharge     0.065350"
      ]
     },
     "execution_count": 77,
     "metadata": {},
     "output_type": "execute_result"
    }
   ],
   "source": [
    "# retrieve the coefficients\n",
    "\n",
    "data = X_train_top\n",
    "model = multi_reg\n",
    "\n",
    "coef_df = pd.DataFrame({\n",
    "    'feature':['intercept'] + data.columns.tolist(),\n",
    "    'coefficient':[model.intercept_] + list(model.coef_)\n",
    "})\n",
    "\n",
    "coef_df"
   ]
  },
  {
   "cell_type": "markdown",
   "id": "57be9738",
   "metadata": {},
   "source": [
    "### b. Model Diagnostic"
   ]
  },
  {
   "cell_type": "code",
   "execution_count": 78,
   "id": "bb4857ea",
   "metadata": {
    "scrolled": true
   },
   "outputs": [
    {
     "name": "stdout",
     "output_type": "stream",
     "text": [
      "R-squared for training data is 0.881286936962127\n"
     ]
    }
   ],
   "source": [
    "## R2-Score\n",
    "\n",
    "y_train_predict = multi_reg.predict(X_train_taxi)\n",
    "print('R-squared for training data is {}'.format(r2_score(y_train_taxi, y_train_predict)))"
   ]
  },
  {
   "cell_type": "markdown",
   "id": "a4e90b77",
   "metadata": {},
   "source": [
    "Konklusi :\n",
    "\n",
    "88% dari total variabilitas `total_amount` berhasil dimodelkan menggunakan fitur yang digunakan. Maka, model Normal Linier Regresion optimal dalam memodelkan pola yang ada dalam dataset"
   ]
  },
  {
   "cell_type": "markdown",
   "id": "8510a703",
   "metadata": {},
   "source": [
    "### c. Model Evaluation"
   ]
  },
  {
   "cell_type": "markdown",
   "id": "3a0b48b1",
   "metadata": {},
   "source": [
    "#### Train Data"
   ]
  },
  {
   "cell_type": "code",
   "execution_count": 79,
   "id": "32364648",
   "metadata": {},
   "outputs": [
    {
     "name": "stdout",
     "output_type": "stream",
     "text": [
      "RMSE for training data is 5.145166016775075\n",
      "MAE for training data is 2.5594627830847845\n",
      "MAPE for training data is 0.1540672396441118\n"
     ]
    }
   ],
   "source": [
    "print('RMSE for training data is {}'.format(np.sqrt(mean_squared_error(y_train_taxi, y_train_predict))))\n",
    "print('MAE for training data is {}'.format(mean_absolute_error(y_train_taxi, y_train_predict)))\n",
    "print('MAPE for training data is {}'.format(mean_absolute_percentage_error(y_train_taxi, y_train_predict)))"
   ]
  },
  {
   "cell_type": "markdown",
   "id": "da576bbb",
   "metadata": {},
   "source": [
    "#### Test Data"
   ]
  },
  {
   "cell_type": "code",
   "execution_count": 80,
   "id": "3f1a8ae0",
   "metadata": {},
   "outputs": [],
   "source": [
    "## Prepare prediction result on test data\n",
    "X_test_taxi = X_test_top.to_numpy()\n",
    "y_test_predict = multi_reg.predict(X_test_taxi)\n",
    "\n",
    "## Ground truth target\n",
    "y_test_taxi = y_test.to_numpy()\n",
    "y_test_taxi = y_test_taxi.reshape(len(y_test_taxi),)"
   ]
  },
  {
   "cell_type": "code",
   "execution_count": 81,
   "id": "18e8ac28",
   "metadata": {},
   "outputs": [
    {
     "name": "stdout",
     "output_type": "stream",
     "text": [
      "RMSE for testing data is 5.243222910574917\n",
      "MAE for testing data is 2.601084920373775\n",
      "MAPE for testing data is 0.15615706469337623\n"
     ]
    }
   ],
   "source": [
    "print('RMSE for testing data is {}'.format(np.sqrt(mean_squared_error(y_test_taxi, y_test_predict))))\n",
    "print('MAE for testing data is {}'.format(mean_absolute_error(y_test_taxi, y_test_predict)))\n",
    "print('MAPE for testing data is {}'.format(mean_absolute_percentage_error(y_test_taxi, y_test_predict)))"
   ]
  },
  {
   "cell_type": "markdown",
   "id": "5edfa8e5",
   "metadata": {},
   "source": [
    "Konklusi :\n",
    "\n",
    "- RMSE = Standar deviasi dari prediksi error pada data test memiliki nilai sebesar 5,2. Maka, residualnya menyimpang sebesar 5,2 dari garis linier regresi\n",
    "- MAPE = Pada data test, secara rata-rata prediksi rating yang dihasilkan menyimpang dari rating sesungguhnya sebesar ±15,6%\n",
    "- Dilihat dari nilai MAPE pada data train dan test, keduanya memiliki nilai error yang tidak cukup tinggi (<30 %), maka dapat dinyatakn bahwa model normal regresion tidak mengalami underfitting maupun overfitting"
   ]
  },
  {
   "cell_type": "markdown",
   "id": "75f03440",
   "metadata": {},
   "source": [
    "## 12. Modified Model\n",
    "\n",
    "### 12.1 Ridge\n",
    "\n",
    "### a. Training Model"
   ]
  },
  {
   "cell_type": "code",
   "execution_count": 82,
   "id": "dcd23918",
   "metadata": {},
   "outputs": [],
   "source": [
    "X = taxi_mod[X_train_top.columns]\n",
    "y = taxi_mod['total_amount'].copy()"
   ]
  },
  {
   "cell_type": "code",
   "execution_count": 83,
   "id": "b16e038d",
   "metadata": {},
   "outputs": [],
   "source": [
    "X[feature_scaling] = scaler.fit_transform(X[feature_scaling])"
   ]
  },
  {
   "cell_type": "code",
   "execution_count": 84,
   "id": "0bbd03e8",
   "metadata": {},
   "outputs": [],
   "source": [
    "# split train test\n",
    "# First splitting: pretrain and test\n",
    "feature_taxi_pretrain, feature_taxi_test, target_taxi_pretrain, target_taxi_test = train_test_split(X, y, test_size=0.20, random_state=42)\n",
    "\n",
    "# Second splitting: train and validation\n",
    "feature_taxi_train, feature_taxi_validation, target_taxi_train, target_taxi_validation = train_test_split(feature_taxi_pretrain, target_taxi_pretrain, test_size=0.20, random_state=42)"
   ]
  },
  {
   "cell_type": "code",
   "execution_count": 85,
   "id": "839bbe14",
   "metadata": {},
   "outputs": [
    {
     "data": {
      "text/plain": [
       "Ridge(alpha=10, random_state=42)"
      ]
     },
     "execution_count": 85,
     "metadata": {},
     "output_type": "execute_result"
    }
   ],
   "source": [
    "# train the model\n",
    "X_taxi_train = feature_taxi_train.to_numpy()\n",
    "y_taxi_train = target_taxi_train.to_numpy()\n",
    "y_taxi_train = y_taxi_train.reshape(len(y_taxi_train),)\n",
    "\n",
    "# define the model\n",
    "# 4 models with 4 different alphas (lambda)\n",
    "ridge_reg_pointzeroone = Ridge(alpha=0.01, random_state=42)\n",
    "ridge_reg_pointone = Ridge(alpha=0.1, random_state=42)\n",
    "ridge_reg_one = Ridge(alpha=1, random_state=42)\n",
    "ridge_reg_ten = Ridge(alpha=10, random_state=42)\n",
    "\n",
    "# fit the model (training)\n",
    "ridge_reg_pointzeroone.fit(X_taxi_train, y_taxi_train)\n",
    "ridge_reg_pointone.fit(X_taxi_train, y_taxi_train)\n",
    "ridge_reg_one.fit(X_taxi_train, y_taxi_train)\n",
    "ridge_reg_ten.fit(X_taxi_train, y_taxi_train)"
   ]
  },
  {
   "cell_type": "code",
   "execution_count": 86,
   "id": "f9648c13",
   "metadata": {},
   "outputs": [
    {
     "name": "stdout",
     "output_type": "stream",
     "text": [
      "RMSE of Ridge regression model with alpha = 0.01 is 4.997552008699263\n",
      "RMSE of Ridge regression model with alpha = 0.1 is 4.997552017701052\n",
      "RMSE of Ridge regression model with alpha = 1.0 is 4.997552107724126\n",
      "RMSE of Ridge regression model with alpha = 10 is 4.997553008473902\n"
     ]
    }
   ],
   "source": [
    "X_taxi_validation = feature_taxi_validation.to_numpy()\n",
    "y_taxi_validation = target_taxi_validation.to_numpy()\n",
    "y_taxi_validation = y_taxi_validation.reshape(len(y_taxi_validation),)\n",
    "\n",
    "alphas = [0.01, 0.1, 1., 10]\n",
    "models = [ridge_reg_pointzeroone,\n",
    "          ridge_reg_pointone,\n",
    "          ridge_reg_one,\n",
    "          ridge_reg_ten]\n",
    "\n",
    "for model, alpha in zip(models, alphas):\n",
    "    y_predict_validation = model.predict(X_taxi_validation)\n",
    "    rmse = np.sqrt(mean_squared_error(y_taxi_validation,y_predict_validation))\n",
    "    print(f'RMSE of Ridge regression model with alpha = {alpha} is {rmse}')\n",
    "    "
   ]
  },
  {
   "cell_type": "markdown",
   "id": "83c80efc",
   "metadata": {},
   "source": [
    "Conclusion :\n",
    "\n",
    "Ridge dengan alpha = 0.01 mempunyai nilai RMSE paling kecil, maka alpha = 0.01 merupakan merupakan model terbaik untuk Ridge."
   ]
  },
  {
   "cell_type": "code",
   "execution_count": 87,
   "id": "a948abd6",
   "metadata": {},
   "outputs": [
    {
     "data": {
      "text/html": [
       "<div>\n",
       "<style scoped>\n",
       "    .dataframe tbody tr th:only-of-type {\n",
       "        vertical-align: middle;\n",
       "    }\n",
       "\n",
       "    .dataframe tbody tr th {\n",
       "        vertical-align: top;\n",
       "    }\n",
       "\n",
       "    .dataframe thead th {\n",
       "        text-align: right;\n",
       "    }\n",
       "</style>\n",
       "<table border=\"1\" class=\"dataframe\">\n",
       "  <thead>\n",
       "    <tr style=\"text-align: right;\">\n",
       "      <th></th>\n",
       "      <th>feature</th>\n",
       "      <th>coefficient</th>\n",
       "    </tr>\n",
       "  </thead>\n",
       "  <tbody>\n",
       "    <tr>\n",
       "      <th>0</th>\n",
       "      <td>intercept</td>\n",
       "      <td>19.811365</td>\n",
       "    </tr>\n",
       "    <tr>\n",
       "      <th>1</th>\n",
       "      <td>trip_distance</td>\n",
       "      <td>7.544987</td>\n",
       "    </tr>\n",
       "    <tr>\n",
       "      <th>2</th>\n",
       "      <td>tolls_amount</td>\n",
       "      <td>2.587329</td>\n",
       "    </tr>\n",
       "    <tr>\n",
       "      <th>3</th>\n",
       "      <td>tip_amount</td>\n",
       "      <td>4.317179</td>\n",
       "    </tr>\n",
       "    <tr>\n",
       "      <th>4</th>\n",
       "      <td>RatecodeID</td>\n",
       "      <td>2.272017</td>\n",
       "    </tr>\n",
       "    <tr>\n",
       "      <th>5</th>\n",
       "      <td>airport_fee</td>\n",
       "      <td>3.055871</td>\n",
       "    </tr>\n",
       "    <tr>\n",
       "      <th>6</th>\n",
       "      <td>mta_tax</td>\n",
       "      <td>-0.254299</td>\n",
       "    </tr>\n",
       "    <tr>\n",
       "      <th>7</th>\n",
       "      <td>congestion_surcharge</td>\n",
       "      <td>0.050374</td>\n",
       "    </tr>\n",
       "  </tbody>\n",
       "</table>\n",
       "</div>"
      ],
      "text/plain": [
       "                feature  coefficient\n",
       "0             intercept    19.811365\n",
       "1         trip_distance     7.544987\n",
       "2          tolls_amount     2.587329\n",
       "3            tip_amount     4.317179\n",
       "4            RatecodeID     2.272017\n",
       "5           airport_fee     3.055871\n",
       "6               mta_tax    -0.254299\n",
       "7  congestion_surcharge     0.050374"
      ]
     },
     "execution_count": 87,
     "metadata": {},
     "output_type": "execute_result"
    }
   ],
   "source": [
    "# Ridge dengan Alpha = 10\n",
    "ridge_best = ridge_reg_pointzeroone\n",
    "\n",
    "coef_df = pd.DataFrame({\n",
    "    'feature':['intercept'] + feature_taxi_train.columns.tolist(),\n",
    "    'coefficient':[ridge_best.intercept_] + list(ridge_best.coef_)\n",
    "})\n",
    "\n",
    "coef_df"
   ]
  },
  {
   "cell_type": "markdown",
   "id": "dd835125",
   "metadata": {},
   "source": [
    "### b. Model Diagnostic"
   ]
  },
  {
   "cell_type": "code",
   "execution_count": 88,
   "id": "1b0c8eb5",
   "metadata": {
    "scrolled": true
   },
   "outputs": [
    {
     "name": "stdout",
     "output_type": "stream",
     "text": [
      "R-squared for training data is 0.8790240063336925\n"
     ]
    }
   ],
   "source": [
    "## R2-Score\n",
    "\n",
    "y_predict_train = ridge_best.predict(X_taxi_train)\n",
    "print('R-squared for training data is {}'.format(r2_score(y_taxi_train, y_predict_train)))"
   ]
  },
  {
   "cell_type": "markdown",
   "id": "55f1e0b8",
   "metadata": {},
   "source": [
    "Konklusi :\n",
    "\n",
    "87% dari total variabilitas `total_amount` berhasil dimodelkan menggunakan fitur yang digunakan. Maka, model Normal Linier Regresion optimal dalam memodelkan pola yang ada dalam dataset"
   ]
  },
  {
   "cell_type": "markdown",
   "id": "57e45ab2",
   "metadata": {},
   "source": [
    "### c. Model Evaluation"
   ]
  },
  {
   "cell_type": "code",
   "execution_count": 89,
   "id": "77f5f746",
   "metadata": {},
   "outputs": [],
   "source": [
    "# prepare prediction result on train data\n",
    "y_predict_train = ridge_best.predict(X_taxi_train)\n",
    "\n",
    "# prepare prediction result on test data\n",
    "X_taxi_test = feature_taxi_test.to_numpy()\n",
    "y_predict_test = ridge_best.predict(X_taxi_test)\n",
    "\n",
    "# ground truth target\n",
    "y_taxi_test = target_taxi_test.to_numpy()\n",
    "y_taxi_test = y_taxi_test.reshape(len(y_taxi_test),)"
   ]
  },
  {
   "cell_type": "markdown",
   "id": "01348a3c",
   "metadata": {},
   "source": [
    "#### Train Data"
   ]
  },
  {
   "cell_type": "code",
   "execution_count": 90,
   "id": "f1d1d809",
   "metadata": {},
   "outputs": [
    {
     "name": "stdout",
     "output_type": "stream",
     "text": [
      "RMSE for training data is 5.197263925432571\n",
      "MAE for training data is 2.5920383952544364\n",
      "MAPE for training data is 0.15591828735495306\n"
     ]
    }
   ],
   "source": [
    "print('RMSE for training data is {}'.format(np.sqrt(mean_squared_error(y_taxi_train, y_predict_train))))\n",
    "print('MAE for training data is {}'.format(mean_absolute_error(y_taxi_train, y_predict_train)))\n",
    "print('MAPE for training data is {}'.format(mean_absolute_percentage_error(y_taxi_train, y_predict_train)))"
   ]
  },
  {
   "cell_type": "markdown",
   "id": "73ad5527",
   "metadata": {},
   "source": [
    "#### Test Data"
   ]
  },
  {
   "cell_type": "code",
   "execution_count": 91,
   "id": "cbb77aa8",
   "metadata": {},
   "outputs": [
    {
     "name": "stdout",
     "output_type": "stream",
     "text": [
      "RMSE for testing data is 5.21824958750778\n",
      "MAE for testing data is 2.6006082946335702\n",
      "MAPE for testing data is 0.15552692793038067\n"
     ]
    }
   ],
   "source": [
    "print('RMSE for testing data is {}'.format(np.sqrt(mean_squared_error(y_taxi_test, y_predict_test))))\n",
    "print('MAE for testing data is {}'.format(mean_absolute_error(y_taxi_test, y_predict_test)))\n",
    "print('MAPE for testing data is {}'.format(mean_absolute_percentage_error(y_taxi_test, y_predict_test)))"
   ]
  },
  {
   "cell_type": "markdown",
   "id": "488856d0",
   "metadata": {},
   "source": [
    "Konklusi :\n",
    "\n",
    "- RMSE = Standar deviasi dari prediksi error pada data test memiliki nilai sebesar 5,2. Maka, residualnya menyimpang sebesar 5,2 dari garis linier regresi\n",
    "- MAPE = Pada data test, secara rata-rata prediksi rating yang dihasilkan menyimpang dari rating sesungguhnya sebesar ±15,5%\n",
    "- Dilihat dari nilai MAPE pada data train dan test, keduanya memiliki nilai error yang tidak cukup tinggi (<30 %), maka dapat dinyatakn bahwa model normal regresion tidak mengalami underfitting maupun overfitting"
   ]
  },
  {
   "cell_type": "markdown",
   "id": "63be98cd",
   "metadata": {},
   "source": [
    "### 12.2 LASSO"
   ]
  },
  {
   "cell_type": "markdown",
   "id": "fdfab13f",
   "metadata": {},
   "source": [
    "### a. Training Model"
   ]
  },
  {
   "cell_type": "code",
   "execution_count": 92,
   "id": "d766c58e",
   "metadata": {},
   "outputs": [
    {
     "data": {
      "text/plain": [
       "Lasso(alpha=10, random_state=42)"
      ]
     },
     "execution_count": 92,
     "metadata": {},
     "output_type": "execute_result"
    }
   ],
   "source": [
    "# train the model\n",
    "X_taxi_train = feature_taxi_train.to_numpy()\n",
    "y_taxi_train = target_taxi_train.to_numpy()\n",
    "y_taxi_train = y_taxi_train.reshape(len(y_taxi_train),)\n",
    "\n",
    "# define the model\n",
    "# 4 models with 4 different alphas (lambda)\n",
    "lasso_reg_pointzeroone = Lasso(alpha=0.01, random_state=42)\n",
    "lasso_reg_pointone = Lasso(alpha=0.1, random_state=42)\n",
    "lasso_reg_one = Lasso(alpha=1, random_state=42)\n",
    "lasso_reg_ten = Lasso(alpha=10, random_state=42)\n",
    "\n",
    "# fit the model (training)\n",
    "lasso_reg_pointzeroone.fit(X_taxi_train, y_taxi_train)\n",
    "lasso_reg_pointone.fit(X_taxi_train, y_taxi_train)\n",
    "lasso_reg_one.fit(X_taxi_train, y_taxi_train)\n",
    "lasso_reg_ten.fit(X_taxi_train, y_taxi_train)"
   ]
  },
  {
   "cell_type": "code",
   "execution_count": 93,
   "id": "0619283c",
   "metadata": {},
   "outputs": [
    {
     "name": "stdout",
     "output_type": "stream",
     "text": [
      "RMSE of Ridge regression model with alpha = 0.01 is 4.99710078767406\n",
      "RMSE of Ridge regression model with alpha = 0.1 is 5.0028162174423025\n",
      "RMSE of Ridge regression model with alpha = 1.0 is 5.189729955000153\n",
      "RMSE of Ridge regression model with alpha = 10 is 12.545078094057333\n"
     ]
    }
   ],
   "source": [
    "X_taxi_validation = feature_taxi_validation.to_numpy()\n",
    "y_taxi_validation = target_taxi_validation.to_numpy()\n",
    "y_taxi_validation = y_taxi_validation.reshape(len(y_taxi_validation),)\n",
    "\n",
    "alphas = [0.01, 0.1, 1., 10]\n",
    "models = [lasso_reg_pointzeroone,\n",
    "          lasso_reg_pointone,\n",
    "          lasso_reg_one,\n",
    "          lasso_reg_ten]\n",
    "\n",
    "for model, alpha in zip(models, alphas):\n",
    "    y_predict_validation = model.predict(X_taxi_validation)\n",
    "    rmse = np.sqrt(mean_squared_error(y_taxi_validation,y_predict_validation))\n",
    "    print(f'RMSE of Ridge regression model with alpha = {alpha} is {rmse}')"
   ]
  },
  {
   "cell_type": "markdown",
   "id": "7ab55476",
   "metadata": {},
   "source": [
    "Conclusion :\n",
    "\n",
    "LASSO dengan alpha = 0.01 mempunyai nilai RMSE paling kecil, maka alpha = 0.01 merupakan merupakan model terbaik untuk LASSO."
   ]
  },
  {
   "cell_type": "code",
   "execution_count": 94,
   "id": "fe85ec92",
   "metadata": {},
   "outputs": [
    {
     "data": {
      "text/html": [
       "<div>\n",
       "<style scoped>\n",
       "    .dataframe tbody tr th:only-of-type {\n",
       "        vertical-align: middle;\n",
       "    }\n",
       "\n",
       "    .dataframe tbody tr th {\n",
       "        vertical-align: top;\n",
       "    }\n",
       "\n",
       "    .dataframe thead th {\n",
       "        text-align: right;\n",
       "    }\n",
       "</style>\n",
       "<table border=\"1\" class=\"dataframe\">\n",
       "  <thead>\n",
       "    <tr style=\"text-align: right;\">\n",
       "      <th></th>\n",
       "      <th>feature</th>\n",
       "      <th>coefficient</th>\n",
       "    </tr>\n",
       "  </thead>\n",
       "  <tbody>\n",
       "    <tr>\n",
       "      <th>0</th>\n",
       "      <td>intercept</td>\n",
       "      <td>19.827010</td>\n",
       "    </tr>\n",
       "    <tr>\n",
       "      <th>1</th>\n",
       "      <td>trip_distance</td>\n",
       "      <td>7.556070</td>\n",
       "    </tr>\n",
       "    <tr>\n",
       "      <th>2</th>\n",
       "      <td>tolls_amount</td>\n",
       "      <td>2.597702</td>\n",
       "    </tr>\n",
       "    <tr>\n",
       "      <th>3</th>\n",
       "      <td>tip_amount</td>\n",
       "      <td>4.317184</td>\n",
       "    </tr>\n",
       "    <tr>\n",
       "      <th>4</th>\n",
       "      <td>RatecodeID</td>\n",
       "      <td>2.274844</td>\n",
       "    </tr>\n",
       "    <tr>\n",
       "      <th>5</th>\n",
       "      <td>airport_fee</td>\n",
       "      <td>2.857662</td>\n",
       "    </tr>\n",
       "    <tr>\n",
       "      <th>6</th>\n",
       "      <td>mta_tax</td>\n",
       "      <td>-0.233203</td>\n",
       "    </tr>\n",
       "    <tr>\n",
       "      <th>7</th>\n",
       "      <td>congestion_surcharge</td>\n",
       "      <td>0.015035</td>\n",
       "    </tr>\n",
       "  </tbody>\n",
       "</table>\n",
       "</div>"
      ],
      "text/plain": [
       "                feature  coefficient\n",
       "0             intercept    19.827010\n",
       "1         trip_distance     7.556070\n",
       "2          tolls_amount     2.597702\n",
       "3            tip_amount     4.317184\n",
       "4            RatecodeID     2.274844\n",
       "5           airport_fee     2.857662\n",
       "6               mta_tax    -0.233203\n",
       "7  congestion_surcharge     0.015035"
      ]
     },
     "execution_count": 94,
     "metadata": {},
     "output_type": "execute_result"
    }
   ],
   "source": [
    "lasso_best = lasso_reg_pointzeroone\n",
    "\n",
    "coef_df = pd.DataFrame({\n",
    "    'feature':['intercept'] + feature_taxi_train.columns.tolist(),\n",
    "    'coefficient':[lasso_best.intercept_] + list(lasso_best.coef_)\n",
    "})\n",
    "\n",
    "coef_df"
   ]
  },
  {
   "cell_type": "markdown",
   "id": "cdb98264",
   "metadata": {},
   "source": [
    "### b. Model Diagnostic"
   ]
  },
  {
   "cell_type": "code",
   "execution_count": 95,
   "id": "1a72af0c",
   "metadata": {
    "scrolled": true
   },
   "outputs": [
    {
     "name": "stdout",
     "output_type": "stream",
     "text": [
      "R-squared for training data is 0.8790136868534204\n"
     ]
    }
   ],
   "source": [
    "## R2-Score\n",
    "\n",
    "y_predict_train = lasso_best.predict(X_taxi_train)\n",
    "print('R-squared for training data is {}'.format(r2_score(y_taxi_train, y_predict_train)))"
   ]
  },
  {
   "cell_type": "markdown",
   "id": "0a5a4bb8",
   "metadata": {},
   "source": [
    "Konklusi :\n",
    "\n",
    "87% dari total variabilitas `total_amount` berhasil dimodelkan menggunakan fitur yang digunakan. Maka, model Normal Linier Regresion optimal dalam memodelkan pola yang ada dalam dataset"
   ]
  },
  {
   "cell_type": "markdown",
   "id": "3843d247",
   "metadata": {},
   "source": [
    "### c. Model Evaluation"
   ]
  },
  {
   "cell_type": "code",
   "execution_count": 96,
   "id": "98f6a650",
   "metadata": {},
   "outputs": [],
   "source": [
    "# prepare prediction result on train data\n",
    "y_predict_train = lasso_best.predict(X_taxi_train)\n",
    "\n",
    "# prepare prediction result on test data\n",
    "X_taxi_test = feature_taxi_test.to_numpy()\n",
    "y_predict_test = lasso_best.predict(X_taxi_test)\n",
    "\n",
    "# ground truth target\n",
    "y_taxi_test = target_taxi_test.to_numpy()\n",
    "y_taxi_test = y_taxi_test.reshape(len(y_taxi_test),)"
   ]
  },
  {
   "cell_type": "markdown",
   "id": "538870a4",
   "metadata": {},
   "source": [
    "#### Train Data"
   ]
  },
  {
   "cell_type": "code",
   "execution_count": 97,
   "id": "b2057d72",
   "metadata": {},
   "outputs": [
    {
     "name": "stdout",
     "output_type": "stream",
     "text": [
      "RMSE for training data is 5.197485588909845\n",
      "MAE for training data is 2.5911341819945473\n",
      "MAPE for training data is 0.1561147453565515\n"
     ]
    }
   ],
   "source": [
    "print('RMSE for training data is {}'.format(np.sqrt(mean_squared_error(y_taxi_train, y_predict_train))))\n",
    "print('MAE for training data is {}'.format(mean_absolute_error(y_taxi_train, y_predict_train)))\n",
    "print('MAPE for training data is {}'.format(mean_absolute_percentage_error(y_taxi_train, y_predict_train)))"
   ]
  },
  {
   "cell_type": "markdown",
   "id": "33ae026f",
   "metadata": {},
   "source": [
    "#### Test Data"
   ]
  },
  {
   "cell_type": "code",
   "execution_count": 98,
   "id": "1c1763fd",
   "metadata": {},
   "outputs": [
    {
     "name": "stdout",
     "output_type": "stream",
     "text": [
      "RMSE for testing data is 5.218561502439356\n",
      "MAE for testing data is 2.599664552174506\n",
      "MAPE for testing data is 0.1557229965895288\n"
     ]
    }
   ],
   "source": [
    "print('RMSE for testing data is {}'.format(np.sqrt(mean_squared_error(y_taxi_test, y_predict_test))))\n",
    "print('MAE for testing data is {}'.format(mean_absolute_error(y_taxi_test, y_predict_test)))\n",
    "print('MAPE for testing data is {}'.format(mean_absolute_percentage_error(y_taxi_test, y_predict_test)))"
   ]
  },
  {
   "cell_type": "markdown",
   "id": "5d68fe4a",
   "metadata": {},
   "source": [
    "Konklusi :\n",
    "\n",
    "- RMSE = Standar deviasi dari prediksi error pada data test memiliki nilai sebesar 5,2. Maka, residualnya menyimpang sebesar 5,2 dari garis linier regresi\n",
    "- MAPE = Pada data test, secara rata-rata prediksi rating yang dihasilkan menyimpang dari rating sesungguhnya sebesar ±15,5%\n",
    "- Dilihat dari nilai MAPE pada data train dan test, keduanya memiliki nilai error yang tidak cukup tinggi (<30 %), maka dapat dinyatakn bahwa model normal regresion tidak mengalami underfitting maupun overfitting"
   ]
  },
  {
   "cell_type": "markdown",
   "id": "e561222f",
   "metadata": {},
   "source": [
    "## Conclusion :\n",
    "\n",
    "- Model modified Ridge memiliki nilai RMSE yang sedikit lebih kecil dari pada LASSO, maka model Ridge yang akan digunakan\n",
    "- Model Ridge memiliki nilai MAPE Pada data test ±15,5%, maka model ini mampu memprediksi total tarif taxi dengan tingkat ketepatan sebesar 84.5%"
   ]
  },
  {
   "cell_type": "code",
   "execution_count": null,
   "id": "a847de60",
   "metadata": {},
   "outputs": [],
   "source": []
  }
 ],
 "metadata": {
  "kernelspec": {
   "display_name": "Python 3 (ipykernel)",
   "language": "python",
   "name": "python3"
  },
  "language_info": {
   "codemirror_mode": {
    "name": "ipython",
    "version": 3
   },
   "file_extension": ".py",
   "mimetype": "text/x-python",
   "name": "python",
   "nbconvert_exporter": "python",
   "pygments_lexer": "ipython3",
   "version": "3.9.12"
  }
 },
 "nbformat": 4,
 "nbformat_minor": 5
}
